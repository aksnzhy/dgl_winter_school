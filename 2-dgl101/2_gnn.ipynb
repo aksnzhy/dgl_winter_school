{
 "cells": [
  {
   "cell_type": "markdown",
   "metadata": {},
   "source": [
    "# Semi-supervised Community Detection using Graph Neural Networks\n",
    "\n",
    "Almost every computer 101 class starts with a \"Hello World\" example. Like MNIST for deep learning, in graph domain we have the Zachary's Karate Club problem. The karate club is a social network that includes 34 members and documents pairwise links between members who interact outside the club. The club later divides into two communities led by the instructor (node 0) and the club president (node 33). The network is visualized as follows with the color indicating the community.\n",
    "\n",
    "<img src='../asset/karat_club.png' align='center' width=\"400px\" height=\"300px\" />\n",
    "\n",
    "In this tutorial, you will learn:\n",
    "\n",
    "* Formulate the community detection problem as a semi-supervised node classification task.\n",
    "* Build a GraphSAGE model, a popular Graph Neural Network architecture proposed by [Hamilton et al.](https://arxiv.org/abs/1706.02216)\n",
    "* Train the model and understand the result."
   ]
  },
  {
   "cell_type": "code",
   "execution_count": 1,
   "metadata": {},
   "outputs": [
    {
     "name": "stderr",
     "output_type": "stream",
     "text": [
      "Using backend: pytorch\n",
      "/usr/local/lib/python3.6/dist-packages/dgl/base.py:45: DGLWarning: Detected an old version of PyTorch. Suggest using torch>=1.5.0 for the best experience.\n",
      "  return warnings.warn(message, category=category, stacklevel=1)\n"
     ]
    }
   ],
   "source": [
    "import dgl\n",
    "import torch\n",
    "import torch.nn as nn\n",
    "import torch.nn.functional as F\n",
    "import itertools"
   ]
  },
  {
   "cell_type": "markdown",
   "metadata": {},
   "source": [
    "## Community detection as node classification\n",
    "\n",
    "The study of community structure in graphs has a long history. Many proposed methods are *unsupervised* (or *self-supervised* by recent definition), where the model predicts the community labels only by connectivity. Recently, [Kipf et al.,](https://arxiv.org/abs/1609.02907) proposed to formulate the community detection problem as a semi-supervised node classification task. With the help of only a small portion of labeled nodes, a GNN can accurately predict the community labels of the others.\n",
    "\n",
    "In this tutorial, we apply Kipf's setting to the Zachery's Karate Club network to predict the community membership, where only the labels of a few nodes are used."
   ]
  },
  {
   "cell_type": "markdown",
   "metadata": {},
   "source": [
    "We first load the graph and node labels as is covered in the [last session](./1_load_data.ipynb). Here, we have provided you a function for loading the data."
   ]
  },
  {
   "cell_type": "code",
   "execution_count": 2,
   "metadata": {},
   "outputs": [
    {
     "name": "stdout",
     "output_type": "stream",
     "text": [
      "Graph(num_nodes=34, num_edges=156,\n",
      "      ndata_schemes={'club': Scheme(shape=(), dtype=torch.int64), 'club_onehot': Scheme(shape=(2,), dtype=torch.int64)}\n",
      "      edata_schemes={})\n"
     ]
    }
   ],
   "source": [
    "from tutorial_utils import load_zachery\n",
    "\n",
    "# ----------- 0. load graph -------------- #\n",
    "g = load_zachery()\n",
    "print(g)"
   ]
  },
  {
   "cell_type": "markdown",
   "metadata": {},
   "source": [
    "In the original Zachery's Karate Club graph, nodes are feature-less. (The `'Age'` attribute is an artificial one mainly for tutorial purposes). For feature-less graph, a common practice is to use an embedding weight that is updated during training for every node.\n",
    "\n",
    "We can use PyTorch's `Embedding` module to achieve this."
   ]
  },
  {
   "cell_type": "code",
   "execution_count": 3,
   "metadata": {},
   "outputs": [
    {
     "name": "stdout",
     "output_type": "stream",
     "text": [
      "Parameter containing:\n",
      "tensor([[ 0.3817, -0.1982,  0.0354, -0.0420, -0.3786],\n",
      "        [ 0.0577, -0.2174,  0.3806, -0.1385, -0.0466],\n",
      "        [-0.0625,  0.2613,  0.2505, -0.1168,  0.0517],\n",
      "        [ 0.1652, -0.3654, -0.1174, -0.1066, -0.0265],\n",
      "        [-0.0626,  0.0081, -0.0805, -0.2065,  0.1847],\n",
      "        [ 0.2763,  0.1923,  0.1724, -0.1276,  0.3726],\n",
      "        [-0.2887,  0.3318,  0.2087, -0.0511,  0.2060],\n",
      "        [-0.3117, -0.3187,  0.3622, -0.1624, -0.0315],\n",
      "        [-0.1482, -0.0845, -0.1926, -0.0573,  0.3398],\n",
      "        [ 0.1377, -0.1056,  0.2965,  0.3668, -0.1756],\n",
      "        [ 0.1430, -0.1686, -0.0689,  0.3754,  0.3886],\n",
      "        [-0.3051, -0.0276,  0.1080,  0.0697,  0.2749],\n",
      "        [-0.2268,  0.3638,  0.3825,  0.1868, -0.2312],\n",
      "        [ 0.2403, -0.2899,  0.3139, -0.0270,  0.1848],\n",
      "        [-0.1717,  0.3562,  0.1251,  0.2082, -0.3107],\n",
      "        [ 0.3846, -0.0761, -0.1512,  0.3800,  0.2337],\n",
      "        [-0.0489,  0.0889,  0.2310, -0.1197,  0.0476],\n",
      "        [-0.3504,  0.2113, -0.0286, -0.2377, -0.1526],\n",
      "        [-0.2743,  0.2165,  0.2995, -0.0616, -0.2912],\n",
      "        [ 0.2122,  0.1148,  0.3498, -0.3056, -0.3450],\n",
      "        [ 0.3325,  0.2143, -0.3912,  0.3008, -0.1314],\n",
      "        [-0.0916,  0.3045, -0.1464,  0.1028, -0.3756],\n",
      "        [-0.2485, -0.0887, -0.2569,  0.0274,  0.0470],\n",
      "        [-0.0474, -0.3584, -0.1870,  0.0872, -0.2146],\n",
      "        [-0.1408, -0.0795,  0.0333, -0.0304, -0.0602],\n",
      "        [-0.2631,  0.1121,  0.3792, -0.0137,  0.0427],\n",
      "        [-0.3338, -0.0417,  0.0446, -0.0459,  0.2163],\n",
      "        [ 0.1010,  0.3774, -0.3734,  0.1194,  0.2787],\n",
      "        [ 0.0401,  0.3134, -0.0871, -0.2027,  0.1819],\n",
      "        [ 0.2305, -0.2916, -0.0294, -0.3627,  0.2782],\n",
      "        [-0.0319, -0.1949,  0.3141,  0.3921,  0.0343],\n",
      "        [-0.1142, -0.2209,  0.0679,  0.1949,  0.2067],\n",
      "        [-0.3676, -0.1798,  0.2088,  0.3659, -0.3342],\n",
      "        [-0.2445,  0.1128, -0.3633, -0.3142,  0.0811]], requires_grad=True)\n"
     ]
    }
   ],
   "source": [
    "# ----------- 1. node features -------------- #\n",
    "node_embed = nn.Embedding(g.number_of_nodes(), 5)  # Every node has an embedding of size 5.\n",
    "inputs = node_embed.weight                         # Use the embedding weight as the node features.\n",
    "nn.init.xavier_uniform_(inputs)\n",
    "print(inputs)"
   ]
  },
  {
   "cell_type": "markdown",
   "metadata": {},
   "source": [
    "The community label is stored in the `'club'` node feature (0 for instructor, 1 for club president). Only nodes 0 and 33 are labeled."
   ]
  },
  {
   "cell_type": "code",
   "execution_count": 55,
   "metadata": {},
   "outputs": [
    {
     "name": "stdout",
     "output_type": "stream",
     "text": [
      "#nodes: 34\n",
      "#labeled nodes: 5\n",
      "Labels tensor([0, 0, 1, 1, 1])\n"
     ]
    }
   ],
   "source": [
    "import random\n",
    "import numpy as np\n",
    "random.seed(0)\n",
    "labels = g.ndata['club']\n",
    "print('#nodes:', len(labels))\n",
    "train_nodes = np.unique([0, 33] + random.sample(range(len(labels)), 3))\n",
    "test_nodes = np.delete(np.arange(len(labels)), train_nodes)\n",
    "print('#labeled nodes:', len(train_nodes))\n",
    "print('Labels', labels[train_nodes])"
   ]
  },
  {
   "cell_type": "markdown",
   "metadata": {},
   "source": [
    "## Define a GraphSAGE model\n",
    "\n",
    "Our model consists of two layers, each computes new node representations by aggregating neighbor information. The equations are:\n",
    "\n",
    "$$\n",
    "h_{\\mathcal{N}(v)}^k\\leftarrow \\text{AGGREGATE}_k\\{h_u^{k-1},\\forall u\\in\\mathcal{N}(v)\\}\n",
    "$$\n",
    "\n",
    "$$\n",
    "h_v^k\\leftarrow \\sigma\\left(W^k\\cdot \\text{CONCAT}(h_v^{k-1}, h_{\\mathcal{N}(v)}^k) \\right)\n",
    "$$\n",
    "\n",
    "DGL provides implementation of many popular neighbor aggregation modules. They all can be invoked easily with one line of codes. See the full list of supported [graph convolution modules](https://docs.dgl.ai/api/python/nn.pytorch.html#module-dgl.nn.pytorch.conv)."
   ]
  },
  {
   "cell_type": "code",
   "execution_count": 56,
   "metadata": {},
   "outputs": [],
   "source": [
    "from dgl.nn import SAGEConv\n",
    "\n",
    "# ----------- 2. create model -------------- #\n",
    "# build a two-layer GraphSAGE model\n",
    "class GraphSAGE(nn.Module):\n",
    "    def __init__(self, in_feats, h_feats, num_classes):\n",
    "        super(GraphSAGE, self).__init__()\n",
    "        self.conv1 = SAGEConv(in_feats, h_feats, 'mean')\n",
    "        self.conv2 = SAGEConv(h_feats, num_classes, 'mean')\n",
    "    \n",
    "    def forward(self, g, in_feat):\n",
    "        h = self.conv1(g, in_feat)\n",
    "        h = F.relu(h)\n",
    "        h = self.conv2(g, h)\n",
    "        return h\n",
    "    \n",
    "# Create the model with given dimensions \n",
    "# input layer dimension: 5, node embeddings\n",
    "# hidden layer dimension: 16\n",
    "# output layer dimension: 2, the two classes, 0 and 1\n",
    "net = GraphSAGE(5, 16, 2)"
   ]
  },
  {
   "cell_type": "code",
   "execution_count": 57,
   "metadata": {},
   "outputs": [
    {
     "name": "stdout",
     "output_type": "stream",
     "text": [
      "In epoch 0, loss: 1.2463643550872803\n",
      "In epoch 5, loss: 0.20613953471183777\n",
      "In epoch 10, loss: 0.014657475054264069\n",
      "In epoch 15, loss: 0.0025392910465598106\n",
      "In epoch 20, loss: 0.0009291935712099075\n",
      "In epoch 25, loss: 0.0005137986736372113\n",
      "In epoch 30, loss: 0.0003468797367531806\n",
      "In epoch 35, loss: 0.0002645134227350354\n",
      "In epoch 40, loss: 0.0002182624739361927\n",
      "In epoch 45, loss: 0.0001900716160889715\n",
      "In epoch 50, loss: 0.00017162640870083123\n",
      "In epoch 55, loss: 0.00015870961942709982\n",
      "In epoch 60, loss: 0.000149152911035344\n",
      "In epoch 65, loss: 0.0001415979495504871\n",
      "In epoch 70, loss: 0.00013540136569645256\n",
      "In epoch 75, loss: 0.00013011037663090974\n",
      "In epoch 80, loss: 0.00012539127783384174\n",
      "In epoch 85, loss: 0.00012110114039387554\n",
      "In epoch 90, loss: 0.00011719231406459585\n",
      "In epoch 95, loss: 0.00011347407416906208\n"
     ]
    }
   ],
   "source": [
    "# ----------- 3. set up loss and optimizer -------------- #\n",
    "# in this case, loss will in training loop\n",
    "optimizer = torch.optim.Adam(itertools.chain(net.parameters(), node_embed.parameters()), lr=0.01)\n",
    "\n",
    "# ----------- 4. training -------------------------------- #\n",
    "all_logits = []\n",
    "for e in range(100):\n",
    "    # forward\n",
    "    logits = net(g, inputs)\n",
    "    \n",
    "    # compute loss\n",
    "    logp = F.log_softmax(logits, 1)\n",
    "    loss = F.nll_loss(logp[labeled_nodes], labels[labeled_nodes])\n",
    "    \n",
    "    # backward\n",
    "    optimizer.zero_grad()\n",
    "    loss.backward()\n",
    "    optimizer.step()\n",
    "    all_logits.append(logits.detach())\n",
    "    \n",
    "    if e % 5 == 0:\n",
    "        print('In epoch {}, loss: {}'.format(e, loss))"
   ]
  },
  {
   "cell_type": "code",
   "execution_count": 58,
   "metadata": {},
   "outputs": [
    {
     "name": "stdout",
     "output_type": "stream",
     "text": [
      "Accuracy 0.7941176470588235\n"
     ]
    }
   ],
   "source": [
    "# ----------- 5. check results ------------------------ #\n",
    "pred = torch.argmax(logits, axis=1)\n",
    "print('Accuracy', (pred == labels)[test_nodes].sum().item() / len(pred))"
   ]
  },
  {
   "cell_type": "markdown",
   "metadata": {},
   "source": [
    "## Exercise\n",
    "\n",
    "Play with the GNN models by using other [graph convolution modules](https://docs.dgl.ai/api/python/nn.pytorch.html#module-dgl.nn.pytorch.conv)."
   ]
  },
  {
   "cell_type": "code",
   "execution_count": null,
   "metadata": {},
   "outputs": [],
   "source": []
  }
 ],
 "metadata": {
  "kernelspec": {
   "display_name": "Python 3",
   "language": "python",
   "name": "python3"
  },
  "language_info": {
   "codemirror_mode": {
    "name": "ipython",
    "version": 3
   },
   "file_extension": ".py",
   "mimetype": "text/x-python",
   "name": "python",
   "nbconvert_exporter": "python",
   "pygments_lexer": "ipython3",
   "version": "3.6.9"
  }
 },
 "nbformat": 4,
 "nbformat_minor": 4
}
