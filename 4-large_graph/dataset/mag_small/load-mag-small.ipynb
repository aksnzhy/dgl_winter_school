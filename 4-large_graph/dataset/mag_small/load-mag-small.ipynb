{
 "cells": [
  {
   "cell_type": "code",
   "execution_count": 1,
   "metadata": {},
   "outputs": [],
   "source": [
    "import pandas as pd\n",
    "import numpy as np\n",
    "\n",
    "node_features = pd.read_csv(\"processed/node-feat.csv\")\n",
    "node_labels = pd.read_csv(\"processed/node-label.csv\")\n",
    "\n",
    "author_write_paper = pd.read_csv(\"processed/author_write_paper_edge.csv\")\n",
    "author_affiliated_with_institution = pd.read_csv(\"processed/author_affiliated_with_institution_edge.csv\")\n",
    "paper_cites_paper = pd.read_csv(\"processed/paper_cites_paper_edge.csv\")\n",
    "paper_has_topic_field_of_study = pd.read_csv(\"processed/paper_has_topic_field_of_study_edge.csv\")\n"
   ]
  },
  {
   "cell_type": "code",
   "execution_count": 2,
   "metadata": {},
   "outputs": [],
   "source": [
    "edges = {\n",
    "    ('author', 'affiliated_with', 'institution'): list(author_affiliated_with_institution.itertuples(index=False)),\n",
    "    ('author', 'writes', 'paper'): list(author_write_paper.itertuples(index=False)),\n",
    "    ('paper', 'cites', 'paper'): list(paper_cites_paper.itertuples(index=False)),\n",
    "    ('paper', 'has_topic', 'field_of_study'): list(paper_has_topic_field_of_study.itertuples(index=False)),\n",
    "}"
   ]
  },
  {
   "cell_type": "code",
   "execution_count": 3,
   "metadata": {},
   "outputs": [
    {
     "name": "stderr",
     "output_type": "stream",
     "text": [
      "Using backend: pytorch\n"
     ]
    }
   ],
   "source": [
    "import dgl\n",
    "graph = dgl.heterograph(edges)"
   ]
  },
  {
   "cell_type": "code",
   "execution_count": 4,
   "metadata": {},
   "outputs": [
    {
     "data": {
      "text/plain": [
       "Graph(num_nodes={'author': 1579, 'field_of_study': 584, 'institution': 421, 'paper': 99},\n",
       "      num_edges={('author', 'affiliated_with', 'institution'): 2312, ('author', 'writes', 'paper'): 1790, ('paper', 'cites', 'paper'): 197, ('paper', 'has_topic', 'field_of_study'): 959},\n",
       "      metagraph=[('author', 'institution', 'affiliated_with'), ('author', 'paper', 'writes'), ('paper', 'paper', 'cites'), ('paper', 'field_of_study', 'has_topic')])"
      ]
     },
     "execution_count": 4,
     "metadata": {},
     "output_type": "execute_result"
    }
   ],
   "source": [
    "graph"
   ]
  }
 ],
 "metadata": {
  "kernelspec": {
   "display_name": "Environment (conda_pytorch_p36)",
   "language": "python",
   "name": "conda_pytorch_p36"
  },
  "language_info": {
   "codemirror_mode": {
    "name": "ipython",
    "version": 3
   },
   "file_extension": ".py",
   "mimetype": "text/x-python",
   "name": "python",
   "nbconvert_exporter": "python",
   "pygments_lexer": "ipython3",
   "version": "3.6.10"
  }
 },
 "nbformat": 4,
 "nbformat_minor": 4
}