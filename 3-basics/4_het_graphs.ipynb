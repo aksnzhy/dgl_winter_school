{
 "cells": [
  {
   "cell_type": "markdown",
   "metadata": {
    "slideshow": {
     "slide_type": "slide"
    }
   },
   "source": [
    "# Heterogenous graphs in DGL\n",
    "\n",
    "\n",
    "- A heterogeneous graph can have nodes and edges of different types. \n",
    "- Knowledge graphs, social networks, biological networks.\n",
    "\n",
    "<img src='https://d2908q01vomqb2.cloudfront.net/77de68daecd823babbb58edb1c8e14d7106e83bb/2019/01/10/Neptune-Metaphactory-1.png' align='center' width=\"300px\" height=\"300px\" />\n"
   ]
  },
  {
   "cell_type": "markdown",
   "metadata": {
    "slideshow": {
     "slide_type": "slide"
    }
   },
   "source": [
    "In this tutorial, you will learn:\n",
    "\n",
    "* How to create a DGL heterogeneous graph from external files.\n",
    "* How to access and modify attributes DGL heterogenous graph.\n",
    "* Load the drug repurposing knowledge graph in DGL presenting in the following [work](https://github.com/gnn4dr/DRKG).\n",
    "* Load a knowledge graph benchmark from DGL datasets."
   ]
  },
  {
   "cell_type": "code",
   "execution_count": 9,
   "metadata": {
    "slideshow": {
     "slide_type": "slide"
    }
   },
   "outputs": [],
   "source": [
    "import dgl\n",
    "import torch\n",
    "import torch.nn as nn\n",
    "import torch.nn.functional as F\n",
    "import itertools"
   ]
  },
  {
   "cell_type": "markdown",
   "metadata": {
    "slideshow": {
     "slide_type": "slide"
    }
   },
   "source": [
    "## Loading the drug repurposing knowledge graph in dgl\n",
    "\n",
    "- Drug-repurposing is a drug discovery paradigm that uses existing drugs for new therapies. \n",
    "\n",
    "- [DRKG](amazon.science/blog/amazon-web-services-open-sources-biological-knowledge-graph-to-fight-covid-19) is an effort by the by the dgl team in AWS to construct a drug repurposing knowledge graph (DRKG)\n",
    "\n",
    "\n",
    "<img src='https://assets.amazon.science/dims4/default/974331b/2147483647/strip/true/crop/886x624+0+0/resize/1200x845!/quality/90/?url=http%3A%2F%2Famazon-topics-brightspot.s3.amazonaws.com%2Fscience%2F9a%2Fd8%2F9df6b0f7425191c4a69fac4caeaf%2Fdrkg.png' align='center' width=\"500px\" height=\"300px\" />\n"
   ]
  },
  {
   "cell_type": "markdown",
   "metadata": {
    "slideshow": {
     "slide_type": "slide"
    }
   },
   "source": [
    "- First, we load the dictionary of edge lists corresponding to different types as pairs of source and destination\n",
    "- The function create_drkg_edge_lists creates the edge list dictionary from a list of files"
   ]
  },
  {
   "cell_type": "code",
   "execution_count": 10,
   "metadata": {
    "slideshow": {
     "slide_type": "slide"
    }
   },
   "outputs": [
    {
     "name": "stdout",
     "output_type": "stream",
     "text": [
      "dict_keys([('Gene', 'bioarx::HumGenHumGen:Gene:Gene', 'Gene'), ('Gene', 'bioarx::VirGenHumGen:Gene:Gene', 'Gene'), ('Compound', 'bioarx::DrugVirGen:Compound:Gene', 'Gene'), ('Compound', 'bioarx::DrugHumGen:Compound:Gene', 'Gene'), ('Disease', 'bioarx::Covid2_acc_host_gene::Disease:Gene', 'Gene'), ('Disease', 'bioarx::Coronavirus_ass_host_gene::Disease:Gene', 'Gene'), ('Gene', 'DGIDB::INHIBITOR::Gene:Compound', 'Compound'), ('Gene', 'DGIDB::ANTAGONIST::Gene:Compound', 'Compound'), ('Gene', 'DGIDB::OTHER::Gene:Compound', 'Compound'), ('Gene', 'DGIDB::AGONIST::Gene:Compound', 'Compound'), ('Gene', 'DGIDB::BINDER::Gene:Compound', 'Compound'), ('Gene', 'DGIDB::MODULATOR::Gene:Compound', 'Compound'), ('Gene', 'DGIDB::BLOCKER::Gene:Compound', 'Compound'), ('Gene', 'DGIDB::CHANNEL BLOCKER::Gene:Compound', 'Compound'), ('Gene', 'DGIDB::ANTIBODY::Gene:Compound', 'Compound'), ('Gene', 'DGIDB::POSITIVE ALLOSTERIC MODULATOR::Gene:Compound', 'Compound'), ('Gene', 'DGIDB::ALLOSTERIC MODULATOR::Gene:Compound', 'Compound'), ('Gene', 'DGIDB::ACTIVATOR::Gene:Compound', 'Compound'), ('Gene', 'DGIDB::PARTIAL AGONIST::Gene:Compound', 'Compound'), ('Compound', 'DRUGBANK::x-atc::Compound:Atc', 'Atc'), ('Compound', 'DRUGBANK::ddi-interactor-in::Compound:Compound', 'Compound'), ('Compound', 'DRUGBANK::target::Compound:Gene', 'Gene'), ('Compound', 'DRUGBANK::enzyme::Compound:Gene', 'Gene'), ('Compound', 'DRUGBANK::carrier::Compound:Gene', 'Gene'), ('Compound', 'DRUGBANK::treats::Compound:Disease', 'Disease'), ('Compound', 'GNBR::E::Compound:Gene', 'Gene'), ('Compound', 'GNBR::A+::Compound:Gene', 'Gene'), ('Compound', 'GNBR::N::Compound:Gene', 'Gene'), ('Compound', 'GNBR::K::Compound:Gene', 'Gene'), ('Compound', 'GNBR::A-::Compound:Gene', 'Gene'), ('Compound', 'GNBR::E+::Compound:Gene', 'Gene'), ('Compound', 'GNBR::B::Compound:Gene', 'Gene'), ('Compound', 'GNBR::E-::Compound:Gene', 'Gene'), ('Compound', 'GNBR::O::Compound:Gene', 'Gene'), ('Compound', 'GNBR::Z::Compound:Gene', 'Gene'), ('Compound', 'GNBR::T::Compound:Disease', 'Disease'), ('Compound', 'GNBR::C::Compound:Disease', 'Disease'), ('Compound', 'GNBR::Sa::Compound:Disease', 'Disease'), ('Compound', 'GNBR::Pa::Compound:Disease', 'Disease'), ('Compound', 'GNBR::Mp::Compound:Disease', 'Disease'), ('Compound', 'GNBR::Pr::Compound:Disease', 'Disease'), ('Compound', 'GNBR::J::Compound:Disease', 'Disease'), ('Gene', 'GNBR::L::Gene:Disease', 'Disease'), ('Gene', 'GNBR::U::Gene:Disease', 'Disease'), ('Gene', 'GNBR::Y::Gene:Disease', 'Disease'), ('Gene', 'GNBR::J::Gene:Disease', 'Disease'), ('Gene', 'GNBR::Te::Gene:Disease', 'Disease'), ('Gene', 'GNBR::Md::Gene:Disease', 'Disease'), ('Gene', 'GNBR::G::Gene:Disease', 'Disease'), ('Gene', 'GNBR::D::Gene:Disease', 'Disease'), ('Gene', 'GNBR::X::Gene:Disease', 'Disease'), ('Gene', 'GNBR::Ud::Gene:Disease', 'Disease'), ('Gene', 'GNBR::V+::Gene:Gene', 'Gene'), ('Gene', 'GNBR::Q::Gene:Gene', 'Gene'), ('Gene', 'GNBR::Rg::Gene:Gene', 'Gene'), ('Gene', 'GNBR::B::Gene:Gene', 'Gene'), ('Gene', 'GNBR::I::Gene:Gene', 'Gene'), ('Gene', 'GNBR::E+::Gene:Gene', 'Gene'), ('Gene', 'GNBR::H::Gene:Gene', 'Gene'), ('Gene', 'GNBR::W::Gene:Gene', 'Gene'), ('Gene', 'GNBR::E::Gene:Gene', 'Gene'), ('Gene', 'GNBR::in_tax::Gene:Tax', 'Tax'), ('Gene', 'Hetionet::GpBP::Gene:Biological Process', 'Biological Process'), ('Gene', 'Hetionet::GiG::Gene:Gene', 'Gene'), ('Compound', 'Hetionet::CrC::Compound:Compound', 'Compound'), ('Disease', 'Hetionet::DdG::Disease:Gene', 'Gene'), ('Disease', 'Hetionet::DpS::Disease:Symptom', 'Symptom'), ('Disease', 'Hetionet::DlA::Disease:Anatomy', 'Anatomy'), ('Compound', 'Hetionet::CtD::Compound:Disease', 'Disease'), ('Compound', 'Hetionet::CbG::Compound:Gene', 'Gene'), ('Compound', 'Hetionet::CuG::Compound:Gene', 'Gene'), ('Disease', 'Hetionet::DrD::Disease:Disease', 'Disease'), ('Disease', 'Hetionet::DaG::Disease:Gene', 'Gene'), ('Compound', 'Hetionet::CpD::Compound:Disease', 'Disease'), ('Anatomy', 'Hetionet::AdG::Anatomy:Gene', 'Gene'), ('Anatomy', 'Hetionet::AuG::Anatomy:Gene', 'Gene'), ('Gene', 'Hetionet::GcG::Gene:Gene', 'Gene'), ('Gene', 'Hetionet::GpMF::Gene:Molecular Function', 'Molecular Function'), ('Pharmacologic Class', 'Hetionet::PCiC::Pharmacologic Class:Compound', 'Compound'), ('Gene', 'Hetionet::GpCC::Gene:Cellular Component', 'Cellular Component'), ('Gene', 'Hetionet::Gr>G::Gene:Gene', 'Gene'), ('Compound', 'Hetionet::CdG::Compound:Gene', 'Gene'), ('Disease', 'Hetionet::DuG::Disease:Gene', 'Gene'), ('Gene', 'Hetionet::GpPW::Gene:Pathway', 'Pathway'), ('Compound', 'Hetionet::CcSE::Compound:Side Effect', 'Side Effect'), ('Anatomy', 'Hetionet::AeG::Anatomy:Gene', 'Gene'), ('Compound', 'INTACT::PHYSICAL ASSOCIATION::Compound:Gene', 'Gene'), ('Compound', 'INTACT::DIRECT INTERACTION::Compound:Gene', 'Gene'), ('Compound', 'INTACT::ASSOCIATION::Compound:Gene', 'Gene'), ('Gene', 'INTACT::ASSOCIATION::Gene:Gene', 'Gene'), ('Gene', 'INTACT::PHYSICAL ASSOCIATION::Gene:Gene', 'Gene'), ('Gene', 'INTACT::COLOCALIZATION::Gene:Gene', 'Gene'), ('Gene', 'INTACT::DEPHOSPHORYLATION REACTION::Gene:Gene', 'Gene'), ('Gene', 'INTACT::CLEAVAGE REACTION::Gene:Gene', 'Gene'), ('Gene', 'INTACT::DIRECT INTERACTION::Gene:Gene', 'Gene'), ('Gene', 'INTACT::PHOSPHORYLATION REACTION::Gene:Gene', 'Gene'), ('Gene', 'INTACT::ADP RIBOSYLATION REACTION::Gene:Gene', 'Gene'), ('Gene', 'INTACT::UBIQUITINATION REACTION::Gene:Gene', 'Gene'), ('Gene', 'INTACT::PROTEIN CLEAVAGE::Gene:Gene', 'Gene'), ('Gene', 'STRING::REACTION::Gene:Gene', 'Gene'), ('Gene', 'STRING::CATALYSIS::Gene:Gene', 'Gene'), ('Gene', 'STRING::ACTIVATION::Gene:Gene', 'Gene'), ('Gene', 'STRING::INHIBITION::Gene:Gene', 'Gene'), ('Gene', 'STRING::OTHER::Gene:Gene', 'Gene'), ('Gene', 'STRING::BINDING::Gene:Gene', 'Gene'), ('Gene', 'STRING::PTMOD::Gene:Gene', 'Gene'), ('Gene', 'STRING::EXPRESSION::Gene:Gene', 'Gene')])\n"
     ]
    }
   ],
   "source": [
    "from tutorial_utils import create_drkg_edge_lists\n",
    "edge_list_dictionary=create_drkg_edge_lists()\n",
    "print(edge_list_dictionary.keys())"
   ]
  },
  {
   "cell_type": "markdown",
   "metadata": {
    "slideshow": {
     "slide_type": "slide"
    }
   },
   "source": [
    "- Given this edge lists we can create the graph\n",
    "- Metagraph defines the schema of the graph"
   ]
  },
  {
   "cell_type": "code",
   "execution_count": 11,
   "metadata": {
    "slideshow": {
     "slide_type": "slide"
    }
   },
   "outputs": [
    {
     "name": "stdout",
     "output_type": "stream",
     "text": [
      "Graph(num_nodes={'Anatomy': 400, 'Atc': 4048, 'Biological Process': 11381, 'Cellular Component': 1391, 'Compound': 24313, 'Disease': 5103, 'Gene': 39220, 'Molecular Function': 2884, 'Pathway': 1822, 'Pharmacologic Class': 345, 'Side Effect': 5701, 'Symptom': 415, 'Tax': 215},\n",
      "      num_edges={('Anatomy', 'Hetionet::AdG::Anatomy:Gene', 'Gene'): 102240, ('Anatomy', 'Hetionet::AeG::Anatomy:Gene', 'Gene'): 526407, ('Anatomy', 'Hetionet::AuG::Anatomy:Gene', 'Gene'): 97848, ('Compound', 'DRUGBANK::carrier::Compound:Gene', 'Gene'): 720, ('Compound', 'DRUGBANK::ddi-interactor-in::Compound:Compound', 'Compound'): 1379271, ('Compound', 'DRUGBANK::enzyme::Compound:Gene', 'Gene'): 4923, ('Compound', 'DRUGBANK::target::Compound:Gene', 'Gene'): 19158, ('Compound', 'DRUGBANK::treats::Compound:Disease', 'Disease'): 4968, ('Compound', 'DRUGBANK::x-atc::Compound:Atc', 'Atc'): 15750, ('Compound', 'GNBR::A+::Compound:Gene', 'Gene'): 1568, ('Compound', 'GNBR::A-::Compound:Gene', 'Gene'): 1108, ('Compound', 'GNBR::B::Compound:Gene', 'Gene'): 7170, ('Compound', 'GNBR::C::Compound:Disease', 'Disease'): 1739, ('Compound', 'GNBR::E+::Compound:Gene', 'Gene'): 1970, ('Compound', 'GNBR::E-::Compound:Gene', 'Gene'): 2918, ('Compound', 'GNBR::E::Compound:Gene', 'Gene'): 32743, ('Compound', 'GNBR::J::Compound:Disease', 'Disease'): 1020, ('Compound', 'GNBR::K::Compound:Gene', 'Gene'): 12411, ('Compound', 'GNBR::Mp::Compound:Disease', 'Disease'): 495, ('Compound', 'GNBR::N::Compound:Gene', 'Gene'): 12521, ('Compound', 'GNBR::O::Compound:Gene', 'Gene'): 5573, ('Compound', 'GNBR::Pa::Compound:Disease', 'Disease'): 2619, ('Compound', 'GNBR::Pr::Compound:Disease', 'Disease'): 966, ('Compound', 'GNBR::Sa::Compound:Disease', 'Disease'): 16923, ('Compound', 'GNBR::T::Compound:Disease', 'Disease'): 54020, ('Compound', 'GNBR::Z::Compound:Gene', 'Gene'): 2821, ('Compound', 'Hetionet::CbG::Compound:Gene', 'Gene'): 11571, ('Compound', 'Hetionet::CcSE::Compound:Side Effect', 'Side Effect'): 138944, ('Compound', 'Hetionet::CdG::Compound:Gene', 'Gene'): 21102, ('Compound', 'Hetionet::CpD::Compound:Disease', 'Disease'): 390, ('Compound', 'Hetionet::CrC::Compound:Compound', 'Compound'): 6486, ('Compound', 'Hetionet::CtD::Compound:Disease', 'Disease'): 755, ('Compound', 'Hetionet::CuG::Compound:Gene', 'Gene'): 18756, ('Compound', 'INTACT::ASSOCIATION::Compound:Gene', 'Gene'): 1447, ('Compound', 'INTACT::DIRECT INTERACTION::Compound:Gene', 'Gene'): 155, ('Compound', 'INTACT::PHYSICAL ASSOCIATION::Compound:Gene', 'Gene'): 203, ('Compound', 'bioarx::DrugHumGen:Compound:Gene', 'Gene'): 24501, ('Compound', 'bioarx::DrugVirGen:Compound:Gene', 'Gene'): 1165, ('Disease', 'Hetionet::DaG::Disease:Gene', 'Gene'): 12623, ('Disease', 'Hetionet::DdG::Disease:Gene', 'Gene'): 7623, ('Disease', 'Hetionet::DlA::Disease:Anatomy', 'Anatomy'): 3602, ('Disease', 'Hetionet::DpS::Disease:Symptom', 'Symptom'): 3357, ('Disease', 'Hetionet::DrD::Disease:Disease', 'Disease'): 543, ('Disease', 'Hetionet::DuG::Disease:Gene', 'Gene'): 7731, ('Disease', 'bioarx::Coronavirus_ass_host_gene::Disease:Gene', 'Gene'): 129, ('Disease', 'bioarx::Covid2_acc_host_gene::Disease:Gene', 'Gene'): 332, ('Gene', 'DGIDB::ACTIVATOR::Gene:Compound', 'Compound'): 316, ('Gene', 'DGIDB::AGONIST::Gene:Compound', 'Compound'): 3012, ('Gene', 'DGIDB::ALLOSTERIC MODULATOR::Gene:Compound', 'Compound'): 317, ('Gene', 'DGIDB::ANTAGONIST::Gene:Compound', 'Compound'): 3006, ('Gene', 'DGIDB::ANTIBODY::Gene:Compound', 'Compound'): 188, ('Gene', 'DGIDB::BINDER::Gene:Compound', 'Compound'): 143, ('Gene', 'DGIDB::BLOCKER::Gene:Compound', 'Compound'): 979, ('Gene', 'DGIDB::CHANNEL BLOCKER::Gene:Compound', 'Compound'): 352, ('Gene', 'DGIDB::INHIBITOR::Gene:Compound', 'Compound'): 5971, ('Gene', 'DGIDB::MODULATOR::Gene:Compound', 'Compound'): 243, ('Gene', 'DGIDB::OTHER::Gene:Compound', 'Compound'): 11070, ('Gene', 'DGIDB::PARTIAL AGONIST::Gene:Compound', 'Compound'): 75, ('Gene', 'DGIDB::POSITIVE ALLOSTERIC MODULATOR::Gene:Compound', 'Compound'): 618, ('Gene', 'GNBR::B::Gene:Gene', 'Gene'): 8164, ('Gene', 'GNBR::D::Gene:Disease', 'Disease'): 500, ('Gene', 'GNBR::E+::Gene:Gene', 'Gene'): 10838, ('Gene', 'GNBR::E::Gene:Gene', 'Gene'): 418, ('Gene', 'GNBR::G::Gene:Disease', 'Disease'): 2055, ('Gene', 'GNBR::H::Gene:Gene', 'Gene'): 2509, ('Gene', 'GNBR::I::Gene:Gene', 'Gene'): 5434, ('Gene', 'GNBR::J::Gene:Disease', 'Disease'): 30234, ('Gene', 'GNBR::L::Gene:Disease', 'Disease'): 48384, ('Gene', 'GNBR::Md::Gene:Disease', 'Disease'): 1279, ('Gene', 'GNBR::Q::Gene:Gene', 'Gene'): 19372, ('Gene', 'GNBR::Rg::Gene:Gene', 'Gene'): 11018, ('Gene', 'GNBR::Te::Gene:Disease', 'Disease'): 2836, ('Gene', 'GNBR::U::Gene:Disease', 'Disease'): 6432, ('Gene', 'GNBR::Ud::Gene:Disease', 'Disease'): 407, ('Gene', 'GNBR::V+::Gene:Gene', 'Gene'): 8689, ('Gene', 'GNBR::W::Gene:Gene', 'Gene'): 280, ('Gene', 'GNBR::X::Gene:Disease', 'Disease'): 1324, ('Gene', 'GNBR::Y::Gene:Disease', 'Disease'): 1948, ('Gene', 'GNBR::in_tax::Gene:Tax', 'Tax'): 14663, ('Gene', 'Hetionet::GcG::Gene:Gene', 'Gene'): 61690, ('Gene', 'Hetionet::GiG::Gene:Gene', 'Gene'): 147164, ('Gene', 'Hetionet::GpBP::Gene:Biological Process', 'Biological Process'): 559504, ('Gene', 'Hetionet::GpCC::Gene:Cellular Component', 'Cellular Component'): 73566, ('Gene', 'Hetionet::GpMF::Gene:Molecular Function', 'Molecular Function'): 97222, ('Gene', 'Hetionet::GpPW::Gene:Pathway', 'Pathway'): 84372, ('Gene', 'Hetionet::Gr>G::Gene:Gene', 'Gene'): 265672, ('Gene', 'INTACT::ADP RIBOSYLATION REACTION::Gene:Gene', 'Gene'): 58, ('Gene', 'INTACT::ASSOCIATION::Gene:Gene', 'Gene'): 112390, ('Gene', 'INTACT::CLEAVAGE REACTION::Gene:Gene', 'Gene'): 93, ('Gene', 'INTACT::COLOCALIZATION::Gene:Gene', 'Gene'): 3468, ('Gene', 'INTACT::DEPHOSPHORYLATION REACTION::Gene:Gene', 'Gene'): 303, ('Gene', 'INTACT::DIRECT INTERACTION::Gene:Gene', 'Gene'): 6950, ('Gene', 'INTACT::PHOSPHORYLATION REACTION::Gene:Gene', 'Gene'): 1328, ('Gene', 'INTACT::PHYSICAL ASSOCIATION::Gene:Gene', 'Gene'): 129318, ('Gene', 'INTACT::PROTEIN CLEAVAGE::Gene:Gene', 'Gene'): 67, ('Gene', 'INTACT::UBIQUITINATION REACTION::Gene:Gene', 'Gene'): 371, ('Gene', 'STRING::ACTIVATION::Gene:Gene', 'Gene'): 81355, ('Gene', 'STRING::BINDING::Gene:Gene', 'Gene'): 315875, ('Gene', 'STRING::CATALYSIS::Gene:Gene', 'Gene'): 343533, ('Gene', 'STRING::EXPRESSION::Gene:Gene', 'Gene'): 757, ('Gene', 'STRING::INHIBITION::Gene:Gene', 'Gene'): 28959, ('Gene', 'STRING::OTHER::Gene:Gene', 'Gene'): 310690, ('Gene', 'STRING::PTMOD::Gene:Gene', 'Gene'): 15113, ('Gene', 'STRING::REACTION::Gene:Gene', 'Gene'): 400426, ('Gene', 'bioarx::HumGenHumGen:Gene:Gene', 'Gene'): 58094, ('Gene', 'bioarx::VirGenHumGen:Gene:Gene', 'Gene'): 535, ('Pharmacologic Class', 'Hetionet::PCiC::Pharmacologic Class:Compound', 'Compound'): 1029},\n",
      "      metagraph=[('Anatomy', 'Gene', 'Hetionet::AdG::Anatomy:Gene'), ('Anatomy', 'Gene', 'Hetionet::AeG::Anatomy:Gene'), ('Anatomy', 'Gene', 'Hetionet::AuG::Anatomy:Gene'), ('Gene', 'Compound', 'DGIDB::ACTIVATOR::Gene:Compound'), ('Gene', 'Compound', 'DGIDB::AGONIST::Gene:Compound'), ('Gene', 'Compound', 'DGIDB::ALLOSTERIC MODULATOR::Gene:Compound'), ('Gene', 'Compound', 'DGIDB::ANTAGONIST::Gene:Compound'), ('Gene', 'Compound', 'DGIDB::ANTIBODY::Gene:Compound'), ('Gene', 'Compound', 'DGIDB::BINDER::Gene:Compound'), ('Gene', 'Compound', 'DGIDB::BLOCKER::Gene:Compound'), ('Gene', 'Compound', 'DGIDB::CHANNEL BLOCKER::Gene:Compound'), ('Gene', 'Compound', 'DGIDB::INHIBITOR::Gene:Compound'), ('Gene', 'Compound', 'DGIDB::MODULATOR::Gene:Compound'), ('Gene', 'Compound', 'DGIDB::OTHER::Gene:Compound'), ('Gene', 'Compound', 'DGIDB::PARTIAL AGONIST::Gene:Compound'), ('Gene', 'Compound', 'DGIDB::POSITIVE ALLOSTERIC MODULATOR::Gene:Compound'), ('Gene', 'Gene', 'GNBR::B::Gene:Gene'), ('Gene', 'Gene', 'GNBR::E+::Gene:Gene'), ('Gene', 'Gene', 'GNBR::E::Gene:Gene'), ('Gene', 'Gene', 'GNBR::H::Gene:Gene'), ('Gene', 'Gene', 'GNBR::I::Gene:Gene'), ('Gene', 'Gene', 'GNBR::Q::Gene:Gene'), ('Gene', 'Gene', 'GNBR::Rg::Gene:Gene'), ('Gene', 'Gene', 'GNBR::V+::Gene:Gene'), ('Gene', 'Gene', 'GNBR::W::Gene:Gene'), ('Gene', 'Gene', 'Hetionet::GcG::Gene:Gene'), ('Gene', 'Gene', 'Hetionet::GiG::Gene:Gene'), ('Gene', 'Gene', 'Hetionet::Gr>G::Gene:Gene'), ('Gene', 'Gene', 'INTACT::ADP RIBOSYLATION REACTION::Gene:Gene'), ('Gene', 'Gene', 'INTACT::ASSOCIATION::Gene:Gene'), ('Gene', 'Gene', 'INTACT::CLEAVAGE REACTION::Gene:Gene'), ('Gene', 'Gene', 'INTACT::COLOCALIZATION::Gene:Gene'), ('Gene', 'Gene', 'INTACT::DEPHOSPHORYLATION REACTION::Gene:Gene'), ('Gene', 'Gene', 'INTACT::DIRECT INTERACTION::Gene:Gene'), ('Gene', 'Gene', 'INTACT::PHOSPHORYLATION REACTION::Gene:Gene'), ('Gene', 'Gene', 'INTACT::PHYSICAL ASSOCIATION::Gene:Gene'), ('Gene', 'Gene', 'INTACT::PROTEIN CLEAVAGE::Gene:Gene'), ('Gene', 'Gene', 'INTACT::UBIQUITINATION REACTION::Gene:Gene'), ('Gene', 'Gene', 'STRING::ACTIVATION::Gene:Gene'), ('Gene', 'Gene', 'STRING::BINDING::Gene:Gene'), ('Gene', 'Gene', 'STRING::CATALYSIS::Gene:Gene'), ('Gene', 'Gene', 'STRING::EXPRESSION::Gene:Gene'), ('Gene', 'Gene', 'STRING::INHIBITION::Gene:Gene'), ('Gene', 'Gene', 'STRING::OTHER::Gene:Gene'), ('Gene', 'Gene', 'STRING::PTMOD::Gene:Gene'), ('Gene', 'Gene', 'STRING::REACTION::Gene:Gene'), ('Gene', 'Gene', 'bioarx::HumGenHumGen:Gene:Gene'), ('Gene', 'Gene', 'bioarx::VirGenHumGen:Gene:Gene'), ('Gene', 'Disease', 'GNBR::D::Gene:Disease'), ('Gene', 'Disease', 'GNBR::G::Gene:Disease'), ('Gene', 'Disease', 'GNBR::J::Gene:Disease'), ('Gene', 'Disease', 'GNBR::L::Gene:Disease'), ('Gene', 'Disease', 'GNBR::Md::Gene:Disease'), ('Gene', 'Disease', 'GNBR::Te::Gene:Disease'), ('Gene', 'Disease', 'GNBR::U::Gene:Disease'), ('Gene', 'Disease', 'GNBR::Ud::Gene:Disease'), ('Gene', 'Disease', 'GNBR::X::Gene:Disease'), ('Gene', 'Disease', 'GNBR::Y::Gene:Disease'), ('Gene', 'Tax', 'GNBR::in_tax::Gene:Tax'), ('Gene', 'Biological Process', 'Hetionet::GpBP::Gene:Biological Process'), ('Gene', 'Cellular Component', 'Hetionet::GpCC::Gene:Cellular Component'), ('Gene', 'Molecular Function', 'Hetionet::GpMF::Gene:Molecular Function'), ('Gene', 'Pathway', 'Hetionet::GpPW::Gene:Pathway'), ('Compound', 'Gene', 'DRUGBANK::carrier::Compound:Gene'), ('Compound', 'Gene', 'DRUGBANK::enzyme::Compound:Gene'), ('Compound', 'Gene', 'DRUGBANK::target::Compound:Gene'), ('Compound', 'Gene', 'GNBR::A+::Compound:Gene'), ('Compound', 'Gene', 'GNBR::A-::Compound:Gene'), ('Compound', 'Gene', 'GNBR::B::Compound:Gene'), ('Compound', 'Gene', 'GNBR::E+::Compound:Gene'), ('Compound', 'Gene', 'GNBR::E-::Compound:Gene'), ('Compound', 'Gene', 'GNBR::E::Compound:Gene'), ('Compound', 'Gene', 'GNBR::K::Compound:Gene'), ('Compound', 'Gene', 'GNBR::N::Compound:Gene'), ('Compound', 'Gene', 'GNBR::O::Compound:Gene'), ('Compound', 'Gene', 'GNBR::Z::Compound:Gene'), ('Compound', 'Gene', 'Hetionet::CbG::Compound:Gene'), ('Compound', 'Gene', 'Hetionet::CdG::Compound:Gene'), ('Compound', 'Gene', 'Hetionet::CuG::Compound:Gene'), ('Compound', 'Gene', 'INTACT::ASSOCIATION::Compound:Gene'), ('Compound', 'Gene', 'INTACT::DIRECT INTERACTION::Compound:Gene'), ('Compound', 'Gene', 'INTACT::PHYSICAL ASSOCIATION::Compound:Gene'), ('Compound', 'Gene', 'bioarx::DrugHumGen:Compound:Gene'), ('Compound', 'Gene', 'bioarx::DrugVirGen:Compound:Gene'), ('Compound', 'Compound', 'DRUGBANK::ddi-interactor-in::Compound:Compound'), ('Compound', 'Compound', 'Hetionet::CrC::Compound:Compound'), ('Compound', 'Disease', 'DRUGBANK::treats::Compound:Disease'), ('Compound', 'Disease', 'GNBR::C::Compound:Disease'), ('Compound', 'Disease', 'GNBR::J::Compound:Disease'), ('Compound', 'Disease', 'GNBR::Mp::Compound:Disease'), ('Compound', 'Disease', 'GNBR::Pa::Compound:Disease'), ('Compound', 'Disease', 'GNBR::Pr::Compound:Disease'), ('Compound', 'Disease', 'GNBR::Sa::Compound:Disease'), ('Compound', 'Disease', 'GNBR::T::Compound:Disease'), ('Compound', 'Disease', 'Hetionet::CpD::Compound:Disease'), ('Compound', 'Disease', 'Hetionet::CtD::Compound:Disease'), ('Compound', 'Atc', 'DRUGBANK::x-atc::Compound:Atc'), ('Compound', 'Side Effect', 'Hetionet::CcSE::Compound:Side Effect'), ('Disease', 'Gene', 'Hetionet::DaG::Disease:Gene'), ('Disease', 'Gene', 'Hetionet::DdG::Disease:Gene'), ('Disease', 'Gene', 'Hetionet::DuG::Disease:Gene'), ('Disease', 'Gene', 'bioarx::Coronavirus_ass_host_gene::Disease:Gene'), ('Disease', 'Gene', 'bioarx::Covid2_acc_host_gene::Disease:Gene'), ('Disease', 'Anatomy', 'Hetionet::DlA::Disease:Anatomy'), ('Disease', 'Symptom', 'Hetionet::DpS::Disease:Symptom'), ('Disease', 'Disease', 'Hetionet::DrD::Disease:Disease'), ('Pharmacologic Class', 'Compound', 'Hetionet::PCiC::Pharmacologic Class:Compound')])\n"
     ]
    }
   ],
   "source": [
    "graph = dgl.heterograph(edge_list_dictionary);\n",
    "print(graph)"
   ]
  },
  {
   "cell_type": "markdown",
   "metadata": {
    "slideshow": {
     "slide_type": "slide"
    }
   },
   "source": [
    "- Nodes/Edges of different types have independent ID space and feature storage.\n",
    "\n",
    "- Drug and protein node IDs both start from zero and they have different features."
   ]
  },
  {
   "cell_type": "markdown",
   "metadata": {
    "slideshow": {
     "slide_type": "slide"
    }
   },
   "source": [
    "### Print the statistics of the created graph\n",
    "\n",
    "- Number of nodes for each node-type\n",
    "- Number of edges for each edge-type"
   ]
  },
  {
   "cell_type": "code",
   "execution_count": 12,
   "metadata": {
    "slideshow": {
     "slide_type": "slide"
    }
   },
   "outputs": [
    {
     "name": "stdout",
     "output_type": "stream",
     "text": [
      "Anatomy \t 400\n",
      "Atc \t 4048\n",
      "Biological Process \t 11381\n",
      "Cellular Component \t 1391\n",
      "Compound \t 24313\n",
      "Disease \t 5103\n",
      "Gene \t 39220\n",
      "Molecular Function \t 2884\n",
      "Pathway \t 1822\n",
      "Pharmacologic Class \t 345\n",
      "Side Effect \t 5701\n",
      "Symptom \t 415\n",
      "Tax \t 215\n",
      "Graph contains 97238 nodes from 13 node-types.\n"
     ]
    }
   ],
   "source": [
    "total_nodes = 0;\n",
    "for ntype in graph.ntypes:\n",
    "    print(ntype, '\\t', graph.number_of_nodes(ntype));\n",
    "    total_nodes += graph.number_of_nodes(ntype);\n",
    "print(\"Graph contains {} nodes from {} node-types.\".format(total_nodes, len(graph.ntypes)))"
   ]
  },
  {
   "cell_type": "code",
   "execution_count": 13,
   "metadata": {
    "slideshow": {
     "slide_type": "slide"
    }
   },
   "outputs": [
    {
     "name": "stdout",
     "output_type": "stream",
     "text": [
      "Hetionet::AdG::Anatomy:Gene \t 102240\n",
      "Hetionet::AeG::Anatomy:Gene \t 526407\n",
      "Hetionet::AuG::Anatomy:Gene \t 97848\n",
      "DRUGBANK::carrier::Compound:Gene \t 720\n",
      "DRUGBANK::ddi-interactor-in::Compound:Compound \t 1379271\n",
      "DRUGBANK::enzyme::Compound:Gene \t 4923\n",
      "DRUGBANK::target::Compound:Gene \t 19158\n",
      "DRUGBANK::treats::Compound:Disease \t 4968\n",
      "DRUGBANK::x-atc::Compound:Atc \t 15750\n",
      "GNBR::A+::Compound:Gene \t 1568\n",
      "GNBR::A-::Compound:Gene \t 1108\n",
      "GNBR::B::Compound:Gene \t 7170\n",
      "GNBR::C::Compound:Disease \t 1739\n",
      "GNBR::E+::Compound:Gene \t 1970\n",
      "GNBR::E-::Compound:Gene \t 2918\n",
      "GNBR::E::Compound:Gene \t 32743\n",
      "GNBR::J::Compound:Disease \t 1020\n",
      "GNBR::K::Compound:Gene \t 12411\n",
      "GNBR::Mp::Compound:Disease \t 495\n",
      "GNBR::N::Compound:Gene \t 12521\n",
      "GNBR::O::Compound:Gene \t 5573\n",
      "GNBR::Pa::Compound:Disease \t 2619\n",
      "GNBR::Pr::Compound:Disease \t 966\n",
      "GNBR::Sa::Compound:Disease \t 16923\n",
      "GNBR::T::Compound:Disease \t 54020\n",
      "GNBR::Z::Compound:Gene \t 2821\n",
      "Hetionet::CbG::Compound:Gene \t 11571\n",
      "Hetionet::CcSE::Compound:Side Effect \t 138944\n",
      "Hetionet::CdG::Compound:Gene \t 21102\n",
      "Hetionet::CpD::Compound:Disease \t 390\n",
      "Hetionet::CrC::Compound:Compound \t 6486\n",
      "Hetionet::CtD::Compound:Disease \t 755\n",
      "Hetionet::CuG::Compound:Gene \t 18756\n",
      "INTACT::ASSOCIATION::Compound:Gene \t 1447\n",
      "INTACT::DIRECT INTERACTION::Compound:Gene \t 155\n",
      "INTACT::PHYSICAL ASSOCIATION::Compound:Gene \t 203\n",
      "bioarx::DrugHumGen:Compound:Gene \t 24501\n",
      "bioarx::DrugVirGen:Compound:Gene \t 1165\n",
      "Hetionet::DaG::Disease:Gene \t 12623\n",
      "Hetionet::DdG::Disease:Gene \t 7623\n",
      "Hetionet::DlA::Disease:Anatomy \t 3602\n",
      "Hetionet::DpS::Disease:Symptom \t 3357\n",
      "Hetionet::DrD::Disease:Disease \t 543\n",
      "Hetionet::DuG::Disease:Gene \t 7731\n",
      "bioarx::Coronavirus_ass_host_gene::Disease:Gene \t 129\n",
      "bioarx::Covid2_acc_host_gene::Disease:Gene \t 332\n",
      "DGIDB::ACTIVATOR::Gene:Compound \t 316\n",
      "DGIDB::AGONIST::Gene:Compound \t 3012\n",
      "DGIDB::ALLOSTERIC MODULATOR::Gene:Compound \t 317\n",
      "DGIDB::ANTAGONIST::Gene:Compound \t 3006\n",
      "DGIDB::ANTIBODY::Gene:Compound \t 188\n",
      "DGIDB::BINDER::Gene:Compound \t 143\n",
      "DGIDB::BLOCKER::Gene:Compound \t 979\n",
      "DGIDB::CHANNEL BLOCKER::Gene:Compound \t 352\n",
      "DGIDB::INHIBITOR::Gene:Compound \t 5971\n",
      "DGIDB::MODULATOR::Gene:Compound \t 243\n",
      "DGIDB::OTHER::Gene:Compound \t 11070\n",
      "DGIDB::PARTIAL AGONIST::Gene:Compound \t 75\n",
      "DGIDB::POSITIVE ALLOSTERIC MODULATOR::Gene:Compound \t 618\n",
      "GNBR::B::Gene:Gene \t 8164\n",
      "GNBR::D::Gene:Disease \t 500\n",
      "GNBR::E+::Gene:Gene \t 10838\n",
      "GNBR::E::Gene:Gene \t 418\n",
      "GNBR::G::Gene:Disease \t 2055\n",
      "GNBR::H::Gene:Gene \t 2509\n",
      "GNBR::I::Gene:Gene \t 5434\n",
      "GNBR::J::Gene:Disease \t 30234\n",
      "GNBR::L::Gene:Disease \t 48384\n",
      "GNBR::Md::Gene:Disease \t 1279\n",
      "GNBR::Q::Gene:Gene \t 19372\n",
      "GNBR::Rg::Gene:Gene \t 11018\n",
      "GNBR::Te::Gene:Disease \t 2836\n",
      "GNBR::U::Gene:Disease \t 6432\n",
      "GNBR::Ud::Gene:Disease \t 407\n",
      "GNBR::V+::Gene:Gene \t 8689\n",
      "GNBR::W::Gene:Gene \t 280\n",
      "GNBR::X::Gene:Disease \t 1324\n",
      "GNBR::Y::Gene:Disease \t 1948\n",
      "GNBR::in_tax::Gene:Tax \t 14663\n",
      "Hetionet::GcG::Gene:Gene \t 61690\n",
      "Hetionet::GiG::Gene:Gene \t 147164\n",
      "Hetionet::GpBP::Gene:Biological Process \t 559504\n",
      "Hetionet::GpCC::Gene:Cellular Component \t 73566\n",
      "Hetionet::GpMF::Gene:Molecular Function \t 97222\n",
      "Hetionet::GpPW::Gene:Pathway \t 84372\n",
      "Hetionet::Gr>G::Gene:Gene \t 265672\n",
      "INTACT::ADP RIBOSYLATION REACTION::Gene:Gene \t 58\n",
      "INTACT::ASSOCIATION::Gene:Gene \t 112390\n",
      "INTACT::CLEAVAGE REACTION::Gene:Gene \t 93\n",
      "INTACT::COLOCALIZATION::Gene:Gene \t 3468\n",
      "INTACT::DEPHOSPHORYLATION REACTION::Gene:Gene \t 303\n",
      "INTACT::DIRECT INTERACTION::Gene:Gene \t 6950\n",
      "INTACT::PHOSPHORYLATION REACTION::Gene:Gene \t 1328\n",
      "INTACT::PHYSICAL ASSOCIATION::Gene:Gene \t 129318\n",
      "INTACT::PROTEIN CLEAVAGE::Gene:Gene \t 67\n",
      "INTACT::UBIQUITINATION REACTION::Gene:Gene \t 371\n",
      "STRING::ACTIVATION::Gene:Gene \t 81355\n",
      "STRING::BINDING::Gene:Gene \t 315875\n",
      "STRING::CATALYSIS::Gene:Gene \t 343533\n",
      "STRING::EXPRESSION::Gene:Gene \t 757\n",
      "STRING::INHIBITION::Gene:Gene \t 28959\n",
      "STRING::OTHER::Gene:Gene \t 310690\n",
      "STRING::PTMOD::Gene:Gene \t 15113\n",
      "STRING::REACTION::Gene:Gene \t 400426\n",
      "bioarx::HumGenHumGen:Gene:Gene \t 58094\n",
      "bioarx::VirGenHumGen:Gene:Gene \t 535\n",
      "Hetionet::PCiC::Pharmacologic Class:Compound \t 1029\n",
      "Graph contains 5874261 edges from 107 edge-types.\n"
     ]
    }
   ],
   "source": [
    "total_edges = 0;\n",
    "for etype in graph.etypes:\n",
    "    print(etype, '\\t', graph.number_of_edges(etype))\n",
    "    total_edges += graph.number_of_edges(etype);\n",
    "print(\"Graph contains {} edges from {} edge-types.\".format(total_edges, len(graph.etypes)))"
   ]
  },
  {
   "cell_type": "markdown",
   "metadata": {
    "slideshow": {
     "slide_type": "slide"
    }
   },
   "source": [
    "### Assigning node features\n",
    "\n",
    "- Introduce node features per node type\n",
    "- Introduce edge features per edge type"
   ]
  },
  {
   "cell_type": "code",
   "execution_count": 14,
   "metadata": {
    "slideshow": {
     "slide_type": "slide"
    }
   },
   "outputs": [
    {
     "name": "stdout",
     "output_type": "stream",
     "text": [
      "Node features\n",
      "tensor([[1.],\n",
      "        [1.],\n",
      "        [1.],\n",
      "        ...,\n",
      "        [1.],\n",
      "        [1.],\n",
      "        [1.]])\n",
      "Edge features\n",
      "tensor([[0.],\n",
      "        [0.],\n",
      "        [0.],\n",
      "        ...,\n",
      "        [0.],\n",
      "        [0.],\n",
      "        [0.]])\n"
     ]
    }
   ],
   "source": [
    "graph.nodes['Compound'].data['hv'] = torch.ones(graph.number_of_nodes('Compound'), 1)\n",
    "graph.edges['DRUGBANK::treats::Compound:Disease'].data['he'] = torch.zeros(graph.number_of_edges('DRUGBANK::treats::Compound:Disease'), 1)\n",
    "print('Node features')\n",
    "print(graph.nodes['Compound'].data['hv'])\n",
    "print('Edge features')\n",
    "print(graph.edges['DRUGBANK::treats::Compound:Disease'].data['he'])"
   ]
  },
  {
   "cell_type": "markdown",
   "metadata": {
    "slideshow": {
     "slide_type": "slide"
    }
   },
   "source": [
    "## Loading a heterogenous graph benchmark from DGL\n",
    "\n",
    "- AIFB is a popular knowledge graph benchmark \n",
    "- It records the organizational structure of AIFB at the University of Karlsruhe.\n",
    "- The graph contains 7 node types and 109 edge types.\n",
    "- The persons in the KG are associated with a label indicating which research group they belong.\n"
   ]
  },
  {
   "cell_type": "code",
   "execution_count": 15,
   "metadata": {
    "slideshow": {
     "slide_type": "slide"
    }
   },
   "outputs": [
    {
     "name": "stdout",
     "output_type": "stream",
     "text": [
      "Done loading data from cached files.\n",
      "Node types\n",
      "['Forschungsgebiete', 'Forschungsgruppen', 'Kooperationen', 'Personen', 'Projekte', 'Publikationen', '_Literal']\n",
      "Edge types\n",
      "['ontology#dealtWithIn', 'ontology#isWorkedOnBy', 'ontology#name', 'rdftype', 'rev-ontology#isAbout', 'rev-ontology#isAbout', 'ontology#carriesOut', 'ontology#head', 'ontology#homepage', 'ontology#member', 'ontology#name', 'ontology#publishes', 'rev-ontology#carriedOutBy', 'ontology#finances', 'ontology#name', 'rev-ontology#financedBy', 'ontology#fax', 'ontology#homepage', 'ontology#name', 'ontology#phone', 'ontology#photo', 'ontology#publication', 'ontology#worksAtProject', 'rev-ontology#author', 'rev-ontology#editor', 'rev-ontology#head', 'rev-ontology#isWorkedOnBy', 'rev-ontology#member', 'rev-ontology#member', 'ontology#carriedOutBy', 'ontology#financedBy', 'ontology#homepage', 'ontology#isAbout', 'ontology#member', 'ontology#name', 'ontology#projectInfo', 'rev-ontology#carriesOut', 'rev-ontology#dealtWithIn', 'rev-ontology#finances', 'rev-ontology#hasProject', 'rev-ontology#worksAtProject', 'ontology#abstract', 'ontology#address', 'ontology#author', 'ontology#author', 'ontology#booktitle', 'ontology#chapter', 'ontology#edition', 'ontology#editor', 'ontology#editor', 'ontology#hasProject', 'ontology#homepage', 'ontology#howpublished', 'ontology#isAbout', 'ontology#isbn', 'ontology#journal', 'ontology#month', 'ontology#name', 'ontology#note', 'ontology#number', 'ontology#pages', 'ontology#publication', 'ontology#series', 'ontology#title', 'ontology#type', 'ontology#volume', 'ontology#year', 'rev-ontology#author', 'rev-ontology#editor', 'rev-ontology#projectInfo', 'rev-ontology#publication', 'rev-ontology#publication', 'rev-ontology#publishes', 'rev-ontology#abstract', 'rev-ontology#address', 'rev-ontology#booktitle', 'rev-ontology#chapter', 'rev-ontology#edition', 'rev-ontology#fax', 'rev-ontology#homepage', 'rev-ontology#homepage', 'rev-ontology#homepage', 'rev-ontology#homepage', 'rev-ontology#howpublished', 'rev-ontology#isbn', 'rev-ontology#journal', 'rev-ontology#month', 'rev-ontology#name', 'rev-ontology#name', 'rev-ontology#name', 'rev-ontology#name', 'rev-ontology#name', 'rev-ontology#name', 'rev-ontology#note', 'rev-ontology#number', 'rev-ontology#pages', 'rev-ontology#phone', 'rev-ontology#photo', 'rev-ontology#series', 'rev-ontology#title', 'rev-ontology#type', 'rev-ontology#volume', 'rev-ontology#year', 'rev-rdftype']\n"
     ]
    }
   ],
   "source": [
    "from dgl.data.rdf import AIFBDataset\n",
    "\n",
    "dataset = AIFBDataset()\n",
    "g = dataset[0]\n",
    "print(\"Node types\")\n",
    "print(g.ntypes)\n",
    "print(\"Edge types\")\n",
    "print(g.etypes)"
   ]
  },
  {
   "cell_type": "markdown",
   "metadata": {
    "slideshow": {
     "slide_type": "slide"
    }
   },
   "source": [
    "* Access node properties stored as node features"
   ]
  },
  {
   "cell_type": "code",
   "execution_count": 16,
   "metadata": {
    "slideshow": {
     "slide_type": "slide"
    }
   },
   "outputs": [
    {
     "name": "stdout",
     "output_type": "stream",
     "text": [
      "Personen\n",
      "NodeSpace(data={'labels': tensor([ 1, -1, -1,  2, -1, -1,  0,  1, -1, -1, -1, -1, -1, -1, -1,  3,  3,  3,\n",
      "         2,  3,  3,  1, -1,  1,  1,  2,  2,  1,  2, -1, -1, -1,  1,  1,  0,  0,\n",
      "        -1, -1,  1,  0,  0,  0,  0,  0,  0,  0, -1,  0,  0,  0,  0, -1, -1,  1,\n",
      "         1, -1,  1, -1,  0, -1,  1,  1,  1,  0,  2,  2,  2, -1,  1,  0, -1,  1,\n",
      "         0,  0,  0,  0,  0,  2,  0,  2,  2,  2,  1,  0,  0,  0,  0,  0,  0,  0,\n",
      "        -1,  1,  0,  0,  0, -1, -1,  0,  0, -1, -1, -1,  0,  0,  0,  0,  0, -1,\n",
      "         0,  0,  0,  0,  1, -1,  0,  0,  0,  0,  1,  3,  2,  1, -1,  0,  1,  2,\n",
      "         1,  1,  1,  2,  1,  0, -1,  0, -1,  3,  1,  3,  3,  1,  3,  0, -1,  2,\n",
      "         1, -1,  1,  1,  1,  1,  1, -1,  3, -1,  1,  2,  1,  1,  0,  0,  0,  0,\n",
      "         1,  0,  2,  0,  0,  0,  0, -1,  2,  0,  1,  0,  0,  0,  0,  0,  3,  0,\n",
      "         1,  0,  1,  1,  1,  1,  1,  1,  0,  1, -1,  1,  1,  1,  0,  1,  1,  1,\n",
      "        -1,  1,  2,  1, -1, -1,  2, -1,  1,  2, -1, -1,  0,  0,  2, -1,  2,  3,\n",
      "        -1,  2,  1,  2, -1, -1,  1,  3, -1, -1,  2,  3, -1, -1,  1, -1, -1, -1,\n",
      "         2, -1, -1]), 'test_mask': tensor([0, 0, 0, 0, 0, 0, 0, 0, 0, 0, 0, 0, 0, 0, 0, 0, 1, 1, 0, 0, 0, 0, 0, 0,\n",
      "        0, 0, 1, 0, 0, 0, 0, 0, 0, 0, 1, 0, 0, 0, 0, 1, 1, 1, 0, 0, 0, 0, 0, 0,\n",
      "        0, 0, 0, 0, 0, 0, 0, 0, 0, 0, 0, 0, 1, 0, 0, 0, 0, 0, 0, 0, 0, 1, 0, 1,\n",
      "        0, 0, 0, 1, 0, 1, 0, 0, 1, 0, 0, 0, 0, 1, 1, 1, 0, 0, 0, 0, 1, 0, 0, 0,\n",
      "        0, 0, 0, 0, 0, 0, 0, 0, 0, 0, 0, 0, 0, 0, 0, 0, 0, 0, 0, 1, 1, 0, 0, 0,\n",
      "        0, 0, 0, 0, 0, 0, 0, 1, 0, 0, 1, 0, 0, 0, 0, 0, 0, 0, 0, 0, 0, 0, 0, 0,\n",
      "        0, 0, 1, 1, 0, 0, 1, 0, 0, 0, 1, 0, 0, 0, 0, 1, 0, 0, 0, 0, 0, 0, 0, 0,\n",
      "        0, 0, 0, 1, 0, 0, 0, 0, 0, 0, 0, 1, 0, 0, 1, 0, 0, 0, 0, 1, 0, 1, 0, 0,\n",
      "        0, 0, 0, 0, 0, 0, 0, 0, 0, 0, 0, 0, 1, 0, 0, 1, 0, 0, 0, 0, 0, 0, 0, 0,\n",
      "        0, 0, 1, 0, 0, 0, 0, 1, 0, 0, 0, 0, 0, 0, 0, 0, 0, 0, 1, 0, 0],\n",
      "       dtype=torch.uint8), '_ID': tensor([2407, 2403, 1789, 2415, 2428, 2348, 2434, 2210, 4840, 5013, 5028, 5040,\n",
      "        5056, 2033, 5079, 1654, 1656, 1657, 2215, 1658, 1659,  779, 2029,  778,\n",
      "         777,  359,  360,  776,  371, 5212, 2222, 1704, 1765, 2219, 1808, 1797,\n",
      "        5413, 1974, 1978, 1878,  469,  468, 1876,  467, 1874,  466, 2357, 1869,\n",
      "        1864, 1862, 1860, 5408, 2365, 1957, 1953, 1890, 2343, 1896, 1882, 1900,\n",
      "        2333, 2325, 2320, 2312, 1934, 1936, 2301, 2293, 1950, 1880, 2284, 2253,\n",
      "        1858, 1856, 1816, 1814, 1812, 2392, 1810,  644,  645,  398, 2346, 1806,\n",
      "        1804, 2396, 2015, 1802, 1800, 1818, 2388,  414, 1820, 1854, 1852, 2369,\n",
      "        1850, 1848, 1846, 1842, 1794, 2375, 1838, 1834, 1832, 1830, 1828, 5449,\n",
      "        1822, 1840,  465, 1836,  106, 2153,  150,  149,  148,  147,    8,  144,\n",
      "         143,    9,  142,    6,   39,  136,   40,   41,   42,  135,   43,    7,\n",
      "        2104,   38, 2156,  197,   34,  196,  195,   35,  194,   36, 2091,  186,\n",
      "          10, 2163,  183,  180,   37,  174,    5,  167,  166, 2100,   44,  134,\n",
      "         133,  130,   92,   67,   68,   69,   91,   90,   89,   70,   88,   71,\n",
      "          72, 2120,   84,   73,   83,   82,   74,   75,   76,   93,  198,   94,\n",
      "          63,  129,   45,  126,  125,   46,   47,  116,   48,  115, 2124,   54,\n",
      "          55,   56, 2142,  103,   57,  100, 2136,   62,   95,   21, 2138, 2069,\n",
      "         220, 2198,  303,  267, 2127, 2062,   18,   19,  219, 2194,  289,  288,\n",
      "        2065,  287, 2186,  234, 2075, 2177,  223, 2049, 2173, 2183,  266,   20,\n",
      "        2169, 2204,   11, 2202, 2087, 2039,  201, 2047, 2082]), 'train_mask': tensor([1, 0, 0, 1, 0, 0, 1, 1, 0, 0, 0, 0, 0, 0, 0, 1, 0, 0, 1, 1, 1, 1, 0, 1,\n",
      "        1, 1, 0, 1, 1, 0, 0, 0, 1, 1, 0, 1, 0, 0, 1, 0, 0, 0, 1, 1, 1, 1, 0, 1,\n",
      "        1, 1, 1, 0, 0, 1, 1, 0, 1, 0, 1, 0, 0, 1, 1, 1, 1, 1, 1, 0, 1, 0, 0, 0,\n",
      "        1, 1, 1, 0, 1, 0, 1, 1, 0, 1, 1, 1, 1, 0, 0, 0, 1, 1, 0, 1, 0, 1, 1, 0,\n",
      "        0, 1, 1, 0, 0, 0, 1, 1, 1, 1, 1, 0, 1, 1, 1, 1, 1, 0, 1, 0, 0, 1, 1, 1,\n",
      "        1, 1, 0, 1, 1, 1, 1, 0, 1, 1, 0, 1, 0, 1, 0, 1, 1, 1, 1, 1, 1, 1, 0, 1,\n",
      "        1, 0, 0, 0, 1, 1, 0, 0, 1, 0, 0, 1, 1, 1, 1, 0, 1, 1, 1, 1, 1, 1, 1, 1,\n",
      "        1, 0, 1, 0, 1, 1, 1, 1, 1, 1, 1, 0, 1, 1, 0, 1, 1, 1, 1, 0, 1, 0, 0, 1,\n",
      "        1, 1, 1, 1, 1, 1, 0, 1, 1, 1, 0, 0, 0, 0, 1, 0, 0, 0, 1, 1, 1, 0, 1, 1,\n",
      "        0, 1, 0, 1, 0, 0, 1, 0, 0, 0, 1, 1, 0, 0, 1, 0, 0, 0, 0, 0, 0],\n",
      "       dtype=torch.uint8)})\n"
     ]
    }
   ],
   "source": [
    "# The node category holding the different labels\n",
    "category = dataset.predict_category\n",
    "print(category)\n",
    "\n",
    "train_mask = g.nodes[category].data['train_mask']\n",
    "test_mask = g.nodes[category].data['test_mask']\n",
    "train_idx = torch.nonzero(train_mask, as_tuple=False).squeeze()\n",
    "test_idx = torch.nonzero(test_mask, as_tuple=False).squeeze()\n",
    "labels = g.nodes[category].data['labels']\n",
    "print(g.nodes[category])"
   ]
  }
 ],
 "metadata": {
  "celltoolbar": "Slideshow",
  "kernelspec": {
   "display_name": "Python 3",
   "language": "python",
   "name": "python3"
  },
  "language_info": {
   "codemirror_mode": {
    "name": "ipython",
    "version": 3
   },
   "file_extension": ".py",
   "mimetype": "text/x-python",
   "name": "python",
   "nbconvert_exporter": "python",
   "pygments_lexer": "ipython3",
   "version": "3.6.9"
  }
 },
 "nbformat": 4,
 "nbformat_minor": 4
}
