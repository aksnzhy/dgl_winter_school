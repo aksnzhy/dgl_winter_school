{
 "cells": [
  {
   "cell_type": "markdown",
   "metadata": {
    "slideshow": {
     "slide_type": "slide"
    }
   },
   "source": [
    "# Heterogenous graphs in DGL\n",
    "\n",
    "\n",
    "- A heterogeneous graph can have nodes and edges of different types. \n",
    "- Knowledge graphs, social networks, biological networks.\n",
    "\n",
    "<img src='https://d2908q01vomqb2.cloudfront.net/77de68daecd823babbb58edb1c8e14d7106e83bb/2019/01/10/Neptune-Metaphactory-1.png' align='center' width=\"300px\" height=\"300px\" />\n"
   ]
  },
  {
   "cell_type": "markdown",
   "metadata": {
    "slideshow": {
     "slide_type": "slide"
    }
   },
   "source": [
    "In this tutorial, you will learn:\n",
    "\n",
    "* How to create and access a DGL heterogenous graph\n",
    "* Load a subset of the Microsoft academic graph presented [here](https://www.microsoft.com/en-us/research/publication/microsoft-academic-graph-when-experts-are-not-enough/).\n",
    "* Load the drug repurposing knowledge graph in DGL presented in the following [work](https://github.com/gnn4dr/DRKG)."
   ]
  },
  {
   "cell_type": "code",
   "execution_count": 28,
   "metadata": {
    "slideshow": {
     "slide_type": "subslide"
    }
   },
   "outputs": [],
   "source": [
    "import dgl\n",
    "import torch\n",
    "import torch.nn as nn\n",
    "import torch.nn.functional as F\n",
    "import itertools\n",
    "\n",
    "import pandas as pd\n",
    "import numpy as np\n"
   ]
  },
  {
   "cell_type": "markdown",
   "metadata": {},
   "source": [
    "## Creating a heterogenous graph\n",
    "\n",
    "- Load the edges corresponding to different types as pairs of source and destination\n",
    "- Load the node features and node labels"
   ]
  },
  {
   "cell_type": "code",
   "execution_count": 29,
   "metadata": {},
   "outputs": [],
   "source": [
    "\n",
    "node_features = pd.read_csv(\"mag_small/node-feat.csv\").values[:,1:].squeeze()\n",
    "\n",
    "node_labels = pd.read_csv(\"mag_small/node-label.csv\").values[:,1:].squeeze()\n",
    "\n",
    "author_write_paper = pd.read_csv(\"mag_small/author_write_paper_edge.csv\")\n",
    "author_affiliated_with_institution = pd.read_csv(\"mag_small/author_affiliated_with_institution_edge.csv\")\n",
    "paper_cites_paper = pd.read_csv(\"mag_small/paper_cites_paper_edge.csv\")\n",
    "paper_has_topic_field_of_study = pd.read_csv(\"mag_small/paper_has_topic_field_of_study_edge.csv\")\n",
    "\n",
    "edges = {\n",
    "    ('author', 'affiliated_with', 'institution'): list(author_affiliated_with_institution.itertuples(index=False)),\n",
    "    ('author', 'writes', 'paper'): list(author_write_paper.itertuples(index=False)),\n",
    "    ('paper', 'cites', 'paper'): list(paper_cites_paper.itertuples(index=False)),\n",
    "    ('paper', 'has_topic', 'field_of_study'): list(paper_has_topic_field_of_study.itertuples(index=False)),\n",
    "}\n"
   ]
  },
  {
   "cell_type": "markdown",
   "metadata": {},
   "source": [
    "- Given this edge lists we can create the graph\n",
    "- Metagraph defines the schema of the graph"
   ]
  },
  {
   "cell_type": "code",
   "execution_count": 30,
   "metadata": {
    "scrolled": true
   },
   "outputs": [
    {
     "name": "stdout",
     "output_type": "stream",
     "text": [
      "Graph(num_nodes={'author': 1579, 'field_of_study': 584, 'institution': 421, 'paper': 99},\n",
      "      num_edges={('author', 'affiliated_with', 'institution'): 2312, ('author', 'writes', 'paper'): 1790, ('paper', 'cites', 'paper'): 197, ('paper', 'has_topic', 'field_of_study'): 959},\n",
      "      metagraph=[('author', 'institution', 'affiliated_with'), ('author', 'paper', 'writes'), ('paper', 'paper', 'cites'), ('paper', 'field_of_study', 'has_topic')])\n"
     ]
    }
   ],
   "source": [
    "g = dgl.heterograph(edges)\n",
    "print(g)"
   ]
  },
  {
   "cell_type": "markdown",
   "metadata": {},
   "source": [
    "- Nodes/Edges of different types have independent ID space and feature storage.\n",
    "\n",
    "- Author and paper node IDs both start from zero and they have different features.\n",
    "\n",
    "<img src='https://data.dgl.ai/asset/image/user_guide_graphch_2.png' align='center' width=\"600px\" height=\"400px\" />"
   ]
  },
  {
   "cell_type": "markdown",
   "metadata": {},
   "source": [
    "- Introduce node features per node type\n",
    "- Introduce edge features per edge type"
   ]
  },
  {
   "cell_type": "code",
   "execution_count": 34,
   "metadata": {},
   "outputs": [
    {
     "name": "stdout",
     "output_type": "stream",
     "text": [
      "Node features\n",
      "tensor([[ 0.0000e+00, -9.5379e-02,  4.0758e-02,  ...,  6.1569e-02,\n",
      "         -2.7663e-02, -1.3383e-01],\n",
      "        [ 1.0000e+00, -1.5105e-01, -1.0731e-01,  ...,  3.4575e-01,\n",
      "         -2.7737e-02, -2.1853e-01],\n",
      "        [ 2.0000e+00, -1.1480e-01, -1.7598e-01,  ...,  1.7306e-01,\n",
      "         -1.5645e-01, -2.7795e-01],\n",
      "        ...,\n",
      "        [ 9.6000e+01, -2.0896e-01, -2.0555e-01,  ...,  1.8896e-01,\n",
      "         -2.3225e-02, -4.2441e-01],\n",
      "        [ 9.7000e+01, -1.6796e-01, -3.0568e-01,  ..., -1.5304e-01,\n",
      "          1.5082e-02, -4.0195e-01],\n",
      "        [ 9.8000e+01, -1.2331e-01, -5.4199e-02,  ...,  1.7348e-01,\n",
      "         -8.1349e-02, -1.9037e-01]], dtype=torch.float64)\n",
      "Edge features\n",
      "tensor([[0.],\n",
      "        [0.],\n",
      "        [0.],\n",
      "        ...,\n",
      "        [0.],\n",
      "        [0.],\n",
      "        [0.]])\n"
     ]
    }
   ],
   "source": [
    "g.nodes['paper'].data['hv'] = torch.tensor(node_features)\n",
    "g.edges['affiliated_with'].data['he'] = torch.zeros(g.number_of_edges('affiliated_with'), 1)\n",
    "print('Node features')\n",
    "print(g.nodes['paper'].data['hv'])\n",
    "print('Edge features')\n",
    "print(g.edges['affiliated_with'].data['he'])"
   ]
  },
  {
   "cell_type": "markdown",
   "metadata": {},
   "source": [
    "## Loading the drug repurposing knowledge graph in dgl\n",
    "\n",
    "- Drug-repurposing is a drug discovery paradigm that uses existing drugs for new therapeutic indications. \n",
    "\n",
    "- It has the advantages of significantly reducing the time and cost compared to de novo drug discovery. \n",
    "\n",
    "- [DRKG](amazon.science/blog/amazon-web-services-open-sources-biological-knowledge-graph-to-fight-covid-19) is an effort by the by the dgl team in AWS to construct a drug repurposing knowledge graph (DRKG)\n",
    "\n",
    "\n",
    "<img src='https://assets.amazon.science/dims4/default/974331b/2147483647/strip/true/crop/886x624+0+0/resize/1200x845!/quality/90/?url=http%3A%2F%2Famazon-topics-brightspot.s3.amazonaws.com%2Fscience%2F9a%2Fd8%2F9df6b0f7425191c4a69fac4caeaf%2Fdrkg.png' align='center' width=\"500px\" height=\"300px\" />\n"
   ]
  },
  {
   "cell_type": "code",
   "execution_count": 5,
   "metadata": {},
   "outputs": [],
   "source": [
    "from tutorial_utils import create_drkg_edge_lists\n",
    "edge_list_dictionary=create_drkg_edge_lists()\n",
    "graph = dgl.heterograph(edge_list_dictionary);"
   ]
  },
  {
   "cell_type": "markdown",
   "metadata": {},
   "source": [
    "### Print the statistics of the created graph\n",
    "\n",
    "- Number of nodes for each node-type\n"
   ]
  },
  {
   "cell_type": "code",
   "execution_count": 6,
   "metadata": {},
   "outputs": [
    {
     "name": "stdout",
     "output_type": "stream",
     "text": [
      "Anatomy \t 400\n",
      "Atc \t 4048\n",
      "Biological Process \t 11381\n",
      "Cellular Component \t 1391\n",
      "Compound \t 24313\n",
      "Disease \t 5103\n",
      "Gene \t 39220\n",
      "Molecular Function \t 2884\n",
      "Pathway \t 1822\n",
      "Pharmacologic Class \t 345\n",
      "Side Effect \t 5701\n",
      "Symptom \t 415\n",
      "Tax \t 215\n",
      "Graph contains 97238 nodes from 13 node-types.\n"
     ]
    }
   ],
   "source": [
    "total_nodes = 0;\n",
    "for ntype in graph.ntypes:\n",
    "    print(ntype, '\\t', graph.number_of_nodes(ntype));\n",
    "    total_nodes += graph.number_of_nodes(ntype);\n",
    "print(\"Graph contains {} nodes from {} node-types.\".format(total_nodes, len(graph.ntypes)))"
   ]
  },
  {
   "cell_type": "markdown",
   "metadata": {},
   "source": [
    "- Number of edges for each edge-type"
   ]
  },
  {
   "cell_type": "code",
   "execution_count": 7,
   "metadata": {},
   "outputs": [
    {
     "name": "stdout",
     "output_type": "stream",
     "text": [
      "Hetionet::AdG::Anatomy:Gene \t 102240\n",
      "Hetionet::AeG::Anatomy:Gene \t 526407\n",
      "Hetionet::AuG::Anatomy:Gene \t 97848\n",
      "DRUGBANK::carrier::Compound:Gene \t 720\n",
      "DRUGBANK::ddi-interactor-in::Compound:Compound \t 1379271\n",
      "DRUGBANK::enzyme::Compound:Gene \t 4923\n",
      "DRUGBANK::target::Compound:Gene \t 19158\n",
      "DRUGBANK::treats::Compound:Disease \t 4968\n",
      "DRUGBANK::x-atc::Compound:Atc \t 15750\n",
      "GNBR::A+::Compound:Gene \t 1568\n",
      "GNBR::A-::Compound:Gene \t 1108\n",
      "GNBR::B::Compound:Gene \t 7170\n",
      "GNBR::C::Compound:Disease \t 1739\n",
      "GNBR::E+::Compound:Gene \t 1970\n",
      "GNBR::E-::Compound:Gene \t 2918\n",
      "GNBR::E::Compound:Gene \t 32743\n",
      "GNBR::J::Compound:Disease \t 1020\n",
      "GNBR::K::Compound:Gene \t 12411\n",
      "GNBR::Mp::Compound:Disease \t 495\n",
      "GNBR::N::Compound:Gene \t 12521\n",
      "GNBR::O::Compound:Gene \t 5573\n",
      "GNBR::Pa::Compound:Disease \t 2619\n",
      "GNBR::Pr::Compound:Disease \t 966\n",
      "GNBR::Sa::Compound:Disease \t 16923\n",
      "GNBR::T::Compound:Disease \t 54020\n",
      "GNBR::Z::Compound:Gene \t 2821\n",
      "Hetionet::CbG::Compound:Gene \t 11571\n",
      "Hetionet::CcSE::Compound:Side Effect \t 138944\n",
      "Hetionet::CdG::Compound:Gene \t 21102\n",
      "Hetionet::CpD::Compound:Disease \t 390\n",
      "Hetionet::CrC::Compound:Compound \t 6486\n",
      "Hetionet::CtD::Compound:Disease \t 755\n",
      "Hetionet::CuG::Compound:Gene \t 18756\n",
      "INTACT::ASSOCIATION::Compound:Gene \t 1447\n",
      "INTACT::DIRECT INTERACTION::Compound:Gene \t 155\n",
      "INTACT::PHYSICAL ASSOCIATION::Compound:Gene \t 203\n",
      "bioarx::DrugHumGen:Compound:Gene \t 24501\n",
      "bioarx::DrugVirGen:Compound:Gene \t 1165\n",
      "Hetionet::DaG::Disease:Gene \t 12623\n",
      "Hetionet::DdG::Disease:Gene \t 7623\n",
      "Hetionet::DlA::Disease:Anatomy \t 3602\n",
      "Hetionet::DpS::Disease:Symptom \t 3357\n",
      "Hetionet::DrD::Disease:Disease \t 543\n",
      "Hetionet::DuG::Disease:Gene \t 7731\n",
      "bioarx::Coronavirus_ass_host_gene::Disease:Gene \t 129\n",
      "bioarx::Covid2_acc_host_gene::Disease:Gene \t 332\n",
      "DGIDB::ACTIVATOR::Gene:Compound \t 316\n",
      "DGIDB::AGONIST::Gene:Compound \t 3012\n",
      "DGIDB::ALLOSTERIC MODULATOR::Gene:Compound \t 317\n",
      "DGIDB::ANTAGONIST::Gene:Compound \t 3006\n",
      "DGIDB::ANTIBODY::Gene:Compound \t 188\n",
      "DGIDB::BINDER::Gene:Compound \t 143\n",
      "DGIDB::BLOCKER::Gene:Compound \t 979\n",
      "DGIDB::CHANNEL BLOCKER::Gene:Compound \t 352\n",
      "DGIDB::INHIBITOR::Gene:Compound \t 5971\n",
      "DGIDB::MODULATOR::Gene:Compound \t 243\n",
      "DGIDB::OTHER::Gene:Compound \t 11070\n",
      "DGIDB::PARTIAL AGONIST::Gene:Compound \t 75\n",
      "DGIDB::POSITIVE ALLOSTERIC MODULATOR::Gene:Compound \t 618\n",
      "GNBR::B::Gene:Gene \t 8164\n",
      "GNBR::D::Gene:Disease \t 500\n",
      "GNBR::E+::Gene:Gene \t 10838\n",
      "GNBR::E::Gene:Gene \t 418\n",
      "GNBR::G::Gene:Disease \t 2055\n",
      "GNBR::H::Gene:Gene \t 2509\n",
      "GNBR::I::Gene:Gene \t 5434\n",
      "GNBR::J::Gene:Disease \t 30234\n",
      "GNBR::L::Gene:Disease \t 48384\n",
      "GNBR::Md::Gene:Disease \t 1279\n",
      "GNBR::Q::Gene:Gene \t 19372\n",
      "GNBR::Rg::Gene:Gene \t 11018\n",
      "GNBR::Te::Gene:Disease \t 2836\n",
      "GNBR::U::Gene:Disease \t 6432\n",
      "GNBR::Ud::Gene:Disease \t 407\n",
      "GNBR::V+::Gene:Gene \t 8689\n",
      "GNBR::W::Gene:Gene \t 280\n",
      "GNBR::X::Gene:Disease \t 1324\n",
      "GNBR::Y::Gene:Disease \t 1948\n",
      "GNBR::in_tax::Gene:Tax \t 14663\n",
      "Hetionet::GcG::Gene:Gene \t 61690\n",
      "Hetionet::GiG::Gene:Gene \t 147164\n",
      "Hetionet::GpBP::Gene:Biological Process \t 559504\n",
      "Hetionet::GpCC::Gene:Cellular Component \t 73566\n",
      "Hetionet::GpMF::Gene:Molecular Function \t 97222\n",
      "Hetionet::GpPW::Gene:Pathway \t 84372\n",
      "Hetionet::Gr>G::Gene:Gene \t 265672\n",
      "INTACT::ADP RIBOSYLATION REACTION::Gene:Gene \t 58\n",
      "INTACT::ASSOCIATION::Gene:Gene \t 112390\n",
      "INTACT::CLEAVAGE REACTION::Gene:Gene \t 93\n",
      "INTACT::COLOCALIZATION::Gene:Gene \t 3468\n",
      "INTACT::DEPHOSPHORYLATION REACTION::Gene:Gene \t 303\n",
      "INTACT::DIRECT INTERACTION::Gene:Gene \t 6950\n",
      "INTACT::PHOSPHORYLATION REACTION::Gene:Gene \t 1328\n",
      "INTACT::PHYSICAL ASSOCIATION::Gene:Gene \t 129318\n",
      "INTACT::PROTEIN CLEAVAGE::Gene:Gene \t 67\n",
      "INTACT::UBIQUITINATION REACTION::Gene:Gene \t 371\n",
      "STRING::ACTIVATION::Gene:Gene \t 81355\n",
      "STRING::BINDING::Gene:Gene \t 315875\n",
      "STRING::CATALYSIS::Gene:Gene \t 343533\n",
      "STRING::EXPRESSION::Gene:Gene \t 757\n",
      "STRING::INHIBITION::Gene:Gene \t 28959\n",
      "STRING::OTHER::Gene:Gene \t 310690\n",
      "STRING::PTMOD::Gene:Gene \t 15113\n",
      "STRING::REACTION::Gene:Gene \t 400426\n",
      "bioarx::HumGenHumGen:Gene:Gene \t 58094\n",
      "bioarx::VirGenHumGen:Gene:Gene \t 535\n",
      "Hetionet::PCiC::Pharmacologic Class:Compound \t 1029\n",
      "Graph contains 5874261 edges from 107 edge-types.\n"
     ]
    }
   ],
   "source": [
    "total_edges = 0;\n",
    "for etype in graph.etypes:\n",
    "    print(etype, '\\t', graph.number_of_edges(etype))\n",
    "    total_edges += graph.number_of_edges(etype);\n",
    "print(\"Graph contains {} edges from {} edge-types.\".format(total_edges, len(graph.etypes)))"
   ]
  },
  {
   "cell_type": "code",
   "execution_count": null,
   "metadata": {},
   "outputs": [],
   "source": []
  }
 ],
 "metadata": {
  "celltoolbar": "Slideshow",
  "kernelspec": {
   "display_name": "Python 3",
   "language": "python",
   "name": "python3"
  },
  "language_info": {
   "codemirror_mode": {
    "name": "ipython",
    "version": 3
   },
   "file_extension": ".py",
   "mimetype": "text/x-python",
   "name": "python",
   "nbconvert_exporter": "python",
   "pygments_lexer": "ipython3",
   "version": "3.6.9"
  }
 },
 "nbformat": 4,
 "nbformat_minor": 4
}
