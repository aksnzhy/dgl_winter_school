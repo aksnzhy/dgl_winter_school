{
 "cells": [
  {
   "cell_type": "markdown",
   "metadata": {
    "slideshow": {
     "slide_type": "slide"
    }
   },
   "source": [
    "\n",
    "# Graph Classification with DGL\n",
    "\n",
    "In this tutorial, you will learn:\n",
    "* Prepare training and testing sets for graph classification task.\n",
    "* Prepare dataloader for minibatch training of the graph classification model.\n",
    "* Build a GNN-based graph classification  model.\n",
    "* Train the model and verify the result."
   ]
  },
  {
   "cell_type": "code",
   "execution_count": 1,
   "metadata": {
    "slideshow": {
     "slide_type": "slide"
    }
   },
   "outputs": [
    {
     "name": "stderr",
     "output_type": "stream",
     "text": [
      "Using backend: pytorch\n"
     ]
    }
   ],
   "source": [
    "import dgl\n",
    "from dgl.data import TUDataset\n",
    "from dgl.data.utils import split_dataset\n",
    "from dgl.nn.pytorch import conv\n",
    "import numpy as np\n",
    "import networkx as nx\n",
    "\n",
    "import torch\n",
    "import torch.nn as nn\n",
    "from torch.nn import BCEWithLogitsLoss\n",
    "from torch.optim import Adam\n",
    "from torch.utils.data import DataLoader\n",
    "import torch.nn.functional as F"
   ]
  },
  {
   "cell_type": "markdown",
   "metadata": {
    "slideshow": {
     "slide_type": "slide"
    }
   },
   "source": [
    "## Problem formulation\n",
    "\n",
    "- Given a set of training graphs with their labels\n",
    "- Predict the labels on the graphs in the test set"
   ]
  },
  {
   "cell_type": "markdown",
   "metadata": {
    "slideshow": {
     "slide_type": "slide"
    }
   },
   "source": [
    "## Load enzyme dataset\n",
    "\n",
    "- Constructs graphs from the enzymes based on group functions. \n",
    "- Nodes represent structure elements and edges denote the connections between them.\n",
    "- Each graph has a label from 0-5, which means the type of the enzymes.\n",
    "\n",
    "\n",
    "<img src=\"../asset/enzymes.png\" width=\"500\"/>"
   ]
  },
  {
   "cell_type": "code",
   "execution_count": 2,
   "metadata": {
    "slideshow": {
     "slide_type": "slide"
    }
   },
   "outputs": [
    {
     "name": "stderr",
     "output_type": "stream",
     "text": [
      "/home/ubuntu/.local/lib/python3.6/site-packages/ipykernel_launcher.py:3: UserWarning: To copy construct from a tensor, it is recommended to use sourceTensor.clone().detach() or sourceTensor.clone().detach().requires_grad_(True), rather than torch.tensor(sourceTensor).\n",
      "  This is separate from the ipykernel package so we can avoid doing imports until\n"
     ]
    }
   ],
   "source": [
    "dataset = TUDataset(\"ENZYMES\")\n",
    "\n",
    "dataset.graph_labels=torch.tensor(dataset.graph_labels)\n",
    "# Cast the node attributes in float format\n",
    "for i in range(len(dataset)):\n",
    "    dataset[i][0].ndata['node_attr']=(dataset[i][0].ndata['node_attr']).float()"
   ]
  },
  {
   "cell_type": "code",
   "execution_count": 3,
   "metadata": {
    "slideshow": {
     "slide_type": "slide"
    }
   },
   "outputs": [
    {
     "name": "stdout",
     "output_type": "stream",
     "text": [
      "Graph(num_nodes=37, num_edges=168,\n",
      "      ndata_schemes={'node_labels': Scheme(shape=(1,), dtype=torch.int64), 'node_attr': Scheme(shape=(18,), dtype=torch.float32), '_ID': Scheme(shape=(), dtype=torch.int64)}\n",
      "      edata_schemes={'_ID': Scheme(shape=(), dtype=torch.int64)})\n",
      "tensor([5])\n",
      "Number of graphs: 600\n"
     ]
    }
   ],
   "source": [
    "graph, label= dataset[0]\n",
    "print(graph)\n",
    "print(label)\n",
    "print('Number of graphs: '+str(len(dataset)))"
   ]
  },
  {
   "cell_type": "code",
   "execution_count": 4,
   "metadata": {
    "slideshow": {
     "slide_type": "slide"
    }
   },
   "outputs": [
    {
     "data": {
      "image/png": "[encoded data removed]",
      "text/plain": [
       "<Figure size 432x288 with 1 Axes>"
      ]
     },
     "metadata": {},
     "output_type": "display_data"
    }
   ],
   "source": [
    "nx.draw_spring(graph.to_networkx())"
   ]
  },
  {
   "cell_type": "code",
   "execution_count": 5,
   "metadata": {
    "slideshow": {
     "slide_type": "slide"
    }
   },
   "outputs": [],
   "source": [
    "# Split dataset into train and val\n",
    "\n",
    "trainset, valset = split_dataset(dataset, [0.8, 0.2], shuffle=True, random_state=42)"
   ]
  },
  {
   "cell_type": "markdown",
   "metadata": {
    "slideshow": {
     "slide_type": "slide"
    }
   },
   "source": [
    "## Construct training loop\n",
    "\n",
    "- The dataset consist of multiple graphs.\n",
    "- Executing a forward pass with each graph seperately underutilizes the GPU."
   ]
  },
  {
   "cell_type": "markdown",
   "metadata": {
    "slideshow": {
     "slide_type": "slide"
    }
   },
   "source": [
    "### Minibatch graph classification training 101\n",
    "\n",
    "- Mini-batch training constructs batches of graphs.\n",
    "- Per training epoch multiple mini-batches are constructed.\n",
    "- The forward pass is executed per mini-batch.\n",
    "- More details in the large-scale training tutorial"
   ]
  },
  {
   "cell_type": "markdown",
   "metadata": {
    "slideshow": {
     "slide_type": "slide"
    }
   },
   "source": [
    "### Prepare Graph Classification Dataloader\n",
    "\n",
    "- Dataloader specifies how the mini-batches will be constructed.\n",
    "- DGL could batch multiple small graphs together to accelerate the computation.\n",
    "- dgl.batch(): Combines the graphs in the minibatch into a single graph.\n",
    "- Detail of batching can be found [here](https://docs.dgl.ai/tutorials/basics/4_batch.html).\n",
    "\n",
    "<img src=\"https://data.dgl.ai/tutorial/batch/batch.png\" width=\"500\"/>"
   ]
  },
  {
   "cell_type": "code",
   "execution_count": 6,
   "metadata": {
    "slideshow": {
     "slide_type": "slide"
    }
   },
   "outputs": [],
   "source": [
    "def collate_molgraphs_for_classification(data):\n",
    "    \"\"\"Batching a list of datapoints for dataloader in classification tasks.\"\"\"\n",
    "    graphs, labels = map(list, zip(*data))\n",
    "    bg = dgl.batch(graphs)\n",
    "    labels = torch.stack(labels, dim=0)\n",
    "    return bg, labels\n",
    "batch_size=256\n",
    "train_loader = DataLoader(trainset, batch_size=batch_size,\n",
    "                          collate_fn=collate_molgraphs_for_classification)\n",
    "val_loader = DataLoader(valset, batch_size=batch_size,\n",
    "                        collate_fn=collate_molgraphs_for_classification)"
   ]
  },
  {
   "cell_type": "markdown",
   "metadata": {
    "slideshow": {
     "slide_type": "slide"
    }
   },
   "source": [
    "## Graph Classification GCN Model\n",
    "\n",
    "- 3-layer GCN to learn the node-level representations.\n",
    "- Detailed source code can be found [here](https://github.com/dmlc/dgl/blob/master/python/dgl/model_zoo/chem/classifiers.py#L111).\n",
    "- Readout functions `dgl.sum_nodes`, suming all the node(vertex) representation to get the graph representsions. $h_g=\\sum{h_v}$\n",
    "- $h_g$ is fed to a linear(MLP) classifier to classify the graph based on its representation."
   ]
  },
  {
   "cell_type": "code",
   "execution_count": 7,
   "metadata": {
    "slideshow": {
     "slide_type": "slide"
    }
   },
   "outputs": [],
   "source": [
    "class GCNModel(nn.Module):\n",
    "    def __init__(self,\n",
    "                 in_feats,\n",
    "                 n_hidden,\n",
    "                 out_feats):\n",
    "        super().__init__()\n",
    "        self.layers = nn.ModuleList([\n",
    "            conv.GraphConv(in_feats, n_hidden, activation=F.relu, allow_zero_in_degree=True),\n",
    "            conv.GraphConv(n_hidden, n_hidden, activation=F.relu, allow_zero_in_degree=True),\n",
    "            conv.GraphConv(n_hidden, n_hidden, activation=F.relu, allow_zero_in_degree=True)\n",
    "        ])\n",
    "        \n",
    "        self.classifier = nn.Linear(n_hidden, out_feats)\n",
    "\n",
    "    def forward(self, g, features):\n",
    "        h = features\n",
    "        for layer in self.layers:\n",
    "            h = layer(g, h)\n",
    "        with g.local_scope():\n",
    "            g.ndata['feat'] = h\n",
    "            h_g = dgl.sum_nodes(g, 'feat')\n",
    "        return self.classifier(h_g)"
   ]
  },
  {
   "cell_type": "code",
   "execution_count": 8,
   "metadata": {
    "slideshow": {
     "slide_type": "slide"
    }
   },
   "outputs": [
    {
     "name": "stdout",
     "output_type": "stream",
     "text": [
      "cuda\n",
      "GCNModel(\n",
      "  (layers): ModuleList(\n",
      "    (0): GraphConv(in=18, out=64, normalization=both, activation=<function relu at 0x7f1db6d77ea0>)\n",
      "    (1): GraphConv(in=64, out=64, normalization=both, activation=<function relu at 0x7f1db6d77ea0>)\n",
      "    (2): GraphConv(in=64, out=64, normalization=both, activation=<function relu at 0x7f1db6d77ea0>)\n",
      "  )\n",
      "  (classifier): Linear(in_features=64, out_features=6, bias=True)\n",
      ")\n"
     ]
    }
   ],
   "source": [
    "device = \"cuda\" if torch.cuda.is_available() else \"cpu\"\n",
    "epochs = 500\n",
    "model = GCNModel(in_feats=18, n_hidden=64, out_feats=6).to(device)\n",
    "loss_criterion = torch.nn.CrossEntropyLoss()\n",
    "optimizer = Adam(model.parameters())\n",
    "print(device)\n",
    "print(model)"
   ]
  },
  {
   "cell_type": "markdown",
   "metadata": {
    "slideshow": {
     "slide_type": "slide"
    }
   },
   "source": [
    "## Training\n",
    "\n",
    "- Per epoch multiple batches are considered\n",
    "- Cast tensors to device\n",
    "- Pass through the model"
   ]
  },
  {
   "cell_type": "code",
   "execution_count": null,
   "metadata": {
    "scrolled": false,
    "slideshow": {
     "slide_type": "slide"
    }
   },
   "outputs": [
    {
     "name": "stdout",
     "output_type": "stream",
     "text": [
      "Epoch 00000 | Loss: 63.6096 | Accuracy: 0.1458\n",
      "Epoch 00100 | Loss: 1.5803 | Accuracy: 0.3854\n",
      "Epoch 00200 | Loss: 1.6091 | Accuracy: 0.3833\n",
      "Epoch 00300 | Loss: 1.4053 | Accuracy: 0.4792\n",
      "Epoch 00400 | Loss: 1.3922 | Accuracy: 0.5000\n"
     ]
    }
   ],
   "source": [
    "model.train()\n",
    "for i in range(epochs):\n",
    "    loss_list = []\n",
    "    true_samples = 0\n",
    "    num_samples = 0\n",
    "    for batch_id, batch_data in enumerate(train_loader):\n",
    "        bg, labels = batch_data\n",
    "        atom_feats = bg.ndata.pop('node_attr').float()\n",
    "        bg=bg.to(device)\n",
    "        atom_feats, labels = atom_feats.to(device), \\\n",
    "                                   labels.to(device).squeeze(-1)\n",
    "        logits = model(bg, atom_feats)\n",
    "        loss = loss_criterion(logits, labels)\n",
    "        true_samples += (logits.argmax(1)==labels.long()).float().sum().item()\n",
    "        num_samples += len(labels)\n",
    "        loss_list.append(loss.item())\n",
    "        optimizer.zero_grad()\n",
    "        loss.backward()\n",
    "        optimizer.step()\n",
    "    if i%100==0:\n",
    "        print(\"Epoch {:05d} | Loss: {:.4f} | Accuracy: {:.4f}\".format(i, np.mean(loss_list), true_samples/num_samples))"
   ]
  },
  {
   "cell_type": "markdown",
   "metadata": {
    "slideshow": {
     "slide_type": "slide"
    }
   },
   "source": [
    "## Validation\n",
    "\n",
    "- Evaluate the model\n",
    "- Minibatch over validation set"
   ]
  },
  {
   "cell_type": "code",
   "execution_count": null,
   "metadata": {
    "slideshow": {
     "slide_type": "slide"
    }
   },
   "outputs": [],
   "source": [
    "model.eval()\n",
    "true_samples = 0\n",
    "num_samples = 0\n",
    "with torch.no_grad():\n",
    "    for batch_id, batch_data in enumerate(val_loader):\n",
    "        bg, labels = batch_data\n",
    "        bg=bg.to(device)\n",
    "        atom_feats = bg.ndata.pop('node_attr')\n",
    "        atom_feats, labels = atom_feats.to(device), \\\n",
    "                                   labels.to(device).squeeze(-1)\n",
    "        logits = model(bg, atom_feats)\n",
    "        logits.argmax()\n",
    "        num_samples += len(labels)\n",
    "        true_samples += (logits.argmax(1)==labels.long()).float().sum().item()\n",
    "print(\"Validation Accuracy: {:.4f}\".format(true_samples/num_samples))"
   ]
  }
 ],
 "metadata": {
  "celltoolbar": "Slideshow",
  "kernelspec": {
   "display_name": "Python 3",
   "language": "python",
   "name": "python3"
  },
  "language_info": {
   "codemirror_mode": {
    "name": "ipython",
    "version": 3
   },
   "file_extension": ".py",
   "mimetype": "text/x-python",
   "name": "python",
   "nbconvert_exporter": "python",
   "pygments_lexer": "ipython3",
   "version": "3.6.9"
  }
 },
 "nbformat": 4,
 "nbformat_minor": 2
}
